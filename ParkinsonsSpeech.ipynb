{
  "nbformat": 4,
  "nbformat_minor": 0,
  "metadata": {
    "colab": {
      "provenance": []
    },
    "kernelspec": {
      "name": "python3",
      "display_name": "Python 3"
    }
  },
  "cells": [
    {
      "cell_type": "markdown",
      "metadata": {
        "id": "w5b7Uhf45CJ3"
      },
      "source": [
        "# Lab 5 : Detecting Parkinson's Disease using speech\n",
        "In this lab, we will learn how to detect Parkinson's Disease using speech data. Some key-points to learn are:\n",
        "\n",
        "*   How to load and explore new dataset\n",
        "*   How to split train-val-test set (when you have per-patient data)\n",
        "*   How to extract features from audio (MFCCs)\n",
        "*   How to train different models for two-class classification problem\n",
        "*   How to use validation data for selecting model parameters\n",
        "*   How to implement functions to compute accuracy, sensitivity, specificity, f1, precision, recall \n",
        "*   How to implement ROC curve\n",
        "*   How to compute ROC AUC (optional)"
      ]
    },
    {
      "cell_type": "markdown",
      "metadata": {
        "id": "vzMHYqTM5JAX"
      },
      "source": [
        "We will be using **Italian Parkinson's Voice and speech** dataset. Please read [the paper for more details on the dataset.](https://ieeexplore.ieee.org/document/8070308)"
      ]
    },
    {
      "cell_type": "markdown",
      "metadata": {
        "id": "UWyvW0rSRCY_"
      },
      "source": [
        "- Upload data to your Google Drive\n",
        "\n",
        " > - Create your IEEE account\n",
        "https://www.ieee.org/profile/public/createwebaccount/showCreateAccount.html?url=https%3A%2F%2Fwww.ieee.org%2Fabout%2Fhelp%2Fmy-account.html&ShowMGAMarkeatbilityOptIn=true\n",
        " > - Login to your account and download dataset from Dataset Files by clicking on Italian Parkinson’s Voice and speech at  (https://ieee-dataport.org/open-access/italian-parkinsons-voice-and-speech#files )\n",
        " > - Uncompress the zipped folder\n",
        " > - Upload the extracted folder to your GoogleDrive\n",
        "\n",
        " > (This entire process should take you less than an hour, depending on your internet speed)"
      ]
    },
    {
      "cell_type": "markdown",
      "metadata": {
        "id": "OhQQN4KaDZev"
      },
      "source": [
        "## Library Imports"
      ]
    },
    {
      "cell_type": "code",
      "metadata": {
        "id": "_KDvlrIMExQA"
      },
      "source": [
        "import os\n",
        "import pandas as pd\n",
        "from IPython.display import display \n",
        "import IPython\n",
        "import numpy as np"
      ],
      "execution_count": 1,
      "outputs": []
    },
    {
      "cell_type": "code",
      "metadata": {
        "id": "YxwI5Xc53Hp9"
      },
      "source": [
        "# YOUR IMPORTS HERE\n",
        "import google\n",
        "import pathlib\n",
        "import matplotlib.pyplot as plt\n",
        "%matplotlib inline\n",
        "import random\n",
        "import librosa\n",
        "from scipy.stats import kurtosis, skew\n",
        "from sklearn import svm\n",
        "import warnings\n",
        "warnings.filterwarnings('ignore')"
      ],
      "execution_count": 2,
      "outputs": []
    },
    {
      "cell_type": "markdown",
      "metadata": {
        "id": "v6I4kfcVYV1P"
      },
      "source": [
        "## Task 1 [20 points]\n",
        "Load and explore dataset\n"
      ]
    },
    {
      "cell_type": "markdown",
      "metadata": {
        "id": "fgkIIxr5z_in"
      },
      "source": [
        "###### Mount your Google drive [2 point]"
      ]
    },
    {
      "cell_type": "code",
      "metadata": {
        "id": "rdcOox-nYY4C",
        "colab": {
          "base_uri": "https://localhost:8080/"
        },
        "outputId": "6d12ba47-31dd-43e5-c131-f9dc4fad28f8"
      },
      "source": [
        "# YOUR CODE HERE\n",
        "google.colab.drive.mount('/content/drive', force_remount=True)\n",
        "drive = pathlib.Path('./drive/MyDrive') / \"2023JHU\"/\"2023MLMA\"/\"Italian Parkinson's Voice and speech\""
      ],
      "execution_count": 3,
      "outputs": [
        {
          "output_type": "stream",
          "name": "stdout",
          "text": [
            "Mounted at /content/drive\n"
          ]
        }
      ]
    },
    {
      "cell_type": "markdown",
      "metadata": {
        "id": "sU_qQnlJDNpP"
      },
      "source": [
        "##### Explore the dataset in your drive. You may want to use `!ls <DIR_NAME>` or functions from `os` library to list files in directory to explore and understand the directory structure. For example, the first level of directories in the dataset are:"
      ]
    },
    {
      "cell_type": "code",
      "metadata": {
        "colab": {
          "base_uri": "https://localhost:8080/"
        },
        "id": "3goSd9ukdLvg",
        "outputId": "572a13c2-e3c9-4f50-d11d-44c72037d5d8"
      },
      "source": [
        "!ls drive/MyDrive/\"2023JHU\"/\"2023MLMA\"/\"Italian Parkinson's Voice and speech\""
      ],
      "execution_count": 4,
      "outputs": [
        {
          "output_type": "stream",
          "name": "stdout",
          "text": [
            "'15 Young Healthy Control'    \"28 People with Parkinson's disease\"\n",
            "'22 Elderly Healthy Control'\n"
          ]
        }
      ]
    },
    {
      "cell_type": "markdown",
      "metadata": {
        "id": "dbD9zCNAHhZ_"
      },
      "source": [
        "##### There is a file called `FILE CODES.xlsx` in each of the directories which will explain the naming convention for files. Read this file (from any one of the directories) using pandas and display its contents in a readable way. [3 point]"
      ]
    },
    {
      "cell_type": "code",
      "metadata": {
        "id": "NZ51KFd8HLpv"
      },
      "source": [
        "# YOUR CODE HERE\n",
        "file = pd.read_excel(\"drive/MyDrive/2023JHU/2023MLMA/Italian Parkinson's Voice and speech/15 Young Healthy Control/FILE CODES.xlsx\")\n",
        "file = file.iloc[3:,1:]\n",
        "file[\"Unnamed: 2\"]=pd.Series(file[\"Unnamed: 2\"]).fillna(method='ffill')"
      ],
      "execution_count": 5,
      "outputs": []
    },
    {
      "cell_type": "code",
      "source": [
        "display(file)"
      ],
      "metadata": {
        "colab": {
          "base_uri": "https://localhost:8080/",
          "height": 551
        },
        "id": "5J3ALwR01nie",
        "outputId": "6439f853-3ffc-4a11-9c4c-16da7e19445c"
      },
      "execution_count": 6,
      "outputs": [
        {
          "output_type": "display_data",
          "data": {
            "text/plain": [
              "   Unnamed: 1                                         Unnamed: 2\n",
              "3          B1  first reading of the phonemically balanced tex...\n",
              "4          B2  second reading of the phonemically balanced te...\n",
              "5          D1             execution of the syllable ‘pa’ (5 sec)\n",
              "6          D2             execution of the syllable ‘ta’ (5 sec)\n",
              "7         FB1      reading of some phonemically balanced phrases\n",
              "8         FB2        reading of some phonemically balanced words\n",
              "9         VA1                       2 phonation of the vocal ‘a’\n",
              "10        VA2                       2 phonation of the vocal ‘a’\n",
              "11        VE1                       2 phonation of the vocal ‘e’\n",
              "12        VE2                       2 phonation of the vocal ‘e’\n",
              "13        VI1                       2 phonation of the vocal ‘i’\n",
              "14        VI2                       2 phonation of the vocal ‘i’\n",
              "15        VO1                       2 phonation of the vocal ‘o’\n",
              "16        VO2                       2 phonation of the vocal ‘o’\n",
              "17        VU1                       2 phonation of the vocal ‘u’\n",
              "18        VU2                       2 phonation of the vocal ‘u’"
            ],
            "text/html": [
              "\n",
              "  <div id=\"df-995d1a3b-ae81-42f2-a7ef-54bd929b254b\">\n",
              "    <div class=\"colab-df-container\">\n",
              "      <div>\n",
              "<style scoped>\n",
              "    .dataframe tbody tr th:only-of-type {\n",
              "        vertical-align: middle;\n",
              "    }\n",
              "\n",
              "    .dataframe tbody tr th {\n",
              "        vertical-align: top;\n",
              "    }\n",
              "\n",
              "    .dataframe thead th {\n",
              "        text-align: right;\n",
              "    }\n",
              "</style>\n",
              "<table border=\"1\" class=\"dataframe\">\n",
              "  <thead>\n",
              "    <tr style=\"text-align: right;\">\n",
              "      <th></th>\n",
              "      <th>Unnamed: 1</th>\n",
              "      <th>Unnamed: 2</th>\n",
              "    </tr>\n",
              "  </thead>\n",
              "  <tbody>\n",
              "    <tr>\n",
              "      <th>3</th>\n",
              "      <td>B1</td>\n",
              "      <td>first reading of the phonemically balanced tex...</td>\n",
              "    </tr>\n",
              "    <tr>\n",
              "      <th>4</th>\n",
              "      <td>B2</td>\n",
              "      <td>second reading of the phonemically balanced te...</td>\n",
              "    </tr>\n",
              "    <tr>\n",
              "      <th>5</th>\n",
              "      <td>D1</td>\n",
              "      <td>execution of the syllable ‘pa’ (5 sec)</td>\n",
              "    </tr>\n",
              "    <tr>\n",
              "      <th>6</th>\n",
              "      <td>D2</td>\n",
              "      <td>execution of the syllable ‘ta’ (5 sec)</td>\n",
              "    </tr>\n",
              "    <tr>\n",
              "      <th>7</th>\n",
              "      <td>FB1</td>\n",
              "      <td>reading of some phonemically balanced phrases</td>\n",
              "    </tr>\n",
              "    <tr>\n",
              "      <th>8</th>\n",
              "      <td>FB2</td>\n",
              "      <td>reading of some phonemically balanced words</td>\n",
              "    </tr>\n",
              "    <tr>\n",
              "      <th>9</th>\n",
              "      <td>VA1</td>\n",
              "      <td>2 phonation of the vocal ‘a’</td>\n",
              "    </tr>\n",
              "    <tr>\n",
              "      <th>10</th>\n",
              "      <td>VA2</td>\n",
              "      <td>2 phonation of the vocal ‘a’</td>\n",
              "    </tr>\n",
              "    <tr>\n",
              "      <th>11</th>\n",
              "      <td>VE1</td>\n",
              "      <td>2 phonation of the vocal ‘e’</td>\n",
              "    </tr>\n",
              "    <tr>\n",
              "      <th>12</th>\n",
              "      <td>VE2</td>\n",
              "      <td>2 phonation of the vocal ‘e’</td>\n",
              "    </tr>\n",
              "    <tr>\n",
              "      <th>13</th>\n",
              "      <td>VI1</td>\n",
              "      <td>2 phonation of the vocal ‘i’</td>\n",
              "    </tr>\n",
              "    <tr>\n",
              "      <th>14</th>\n",
              "      <td>VI2</td>\n",
              "      <td>2 phonation of the vocal ‘i’</td>\n",
              "    </tr>\n",
              "    <tr>\n",
              "      <th>15</th>\n",
              "      <td>VO1</td>\n",
              "      <td>2 phonation of the vocal ‘o’</td>\n",
              "    </tr>\n",
              "    <tr>\n",
              "      <th>16</th>\n",
              "      <td>VO2</td>\n",
              "      <td>2 phonation of the vocal ‘o’</td>\n",
              "    </tr>\n",
              "    <tr>\n",
              "      <th>17</th>\n",
              "      <td>VU1</td>\n",
              "      <td>2 phonation of the vocal ‘u’</td>\n",
              "    </tr>\n",
              "    <tr>\n",
              "      <th>18</th>\n",
              "      <td>VU2</td>\n",
              "      <td>2 phonation of the vocal ‘u’</td>\n",
              "    </tr>\n",
              "  </tbody>\n",
              "</table>\n",
              "</div>\n",
              "      <button class=\"colab-df-convert\" onclick=\"convertToInteractive('df-995d1a3b-ae81-42f2-a7ef-54bd929b254b')\"\n",
              "              title=\"Convert this dataframe to an interactive table.\"\n",
              "              style=\"display:none;\">\n",
              "        \n",
              "  <svg xmlns=\"http://www.w3.org/2000/svg\" height=\"24px\"viewBox=\"0 0 24 24\"\n",
              "       width=\"24px\">\n",
              "    <path d=\"M0 0h24v24H0V0z\" fill=\"none\"/>\n",
              "    <path d=\"M18.56 5.44l.94 2.06.94-2.06 2.06-.94-2.06-.94-.94-2.06-.94 2.06-2.06.94zm-11 1L8.5 8.5l.94-2.06 2.06-.94-2.06-.94L8.5 2.5l-.94 2.06-2.06.94zm10 10l.94 2.06.94-2.06 2.06-.94-2.06-.94-.94-2.06-.94 2.06-2.06.94z\"/><path d=\"M17.41 7.96l-1.37-1.37c-.4-.4-.92-.59-1.43-.59-.52 0-1.04.2-1.43.59L10.3 9.45l-7.72 7.72c-.78.78-.78 2.05 0 2.83L4 21.41c.39.39.9.59 1.41.59.51 0 1.02-.2 1.41-.59l7.78-7.78 2.81-2.81c.8-.78.8-2.07 0-2.86zM5.41 20L4 18.59l7.72-7.72 1.47 1.35L5.41 20z\"/>\n",
              "  </svg>\n",
              "      </button>\n",
              "      \n",
              "  <style>\n",
              "    .colab-df-container {\n",
              "      display:flex;\n",
              "      flex-wrap:wrap;\n",
              "      gap: 12px;\n",
              "    }\n",
              "\n",
              "    .colab-df-convert {\n",
              "      background-color: #E8F0FE;\n",
              "      border: none;\n",
              "      border-radius: 50%;\n",
              "      cursor: pointer;\n",
              "      display: none;\n",
              "      fill: #1967D2;\n",
              "      height: 32px;\n",
              "      padding: 0 0 0 0;\n",
              "      width: 32px;\n",
              "    }\n",
              "\n",
              "    .colab-df-convert:hover {\n",
              "      background-color: #E2EBFA;\n",
              "      box-shadow: 0px 1px 2px rgba(60, 64, 67, 0.3), 0px 1px 3px 1px rgba(60, 64, 67, 0.15);\n",
              "      fill: #174EA6;\n",
              "    }\n",
              "\n",
              "    [theme=dark] .colab-df-convert {\n",
              "      background-color: #3B4455;\n",
              "      fill: #D2E3FC;\n",
              "    }\n",
              "\n",
              "    [theme=dark] .colab-df-convert:hover {\n",
              "      background-color: #434B5C;\n",
              "      box-shadow: 0px 1px 3px 1px rgba(0, 0, 0, 0.15);\n",
              "      filter: drop-shadow(0px 1px 2px rgba(0, 0, 0, 0.3));\n",
              "      fill: #FFFFFF;\n",
              "    }\n",
              "  </style>\n",
              "\n",
              "      <script>\n",
              "        const buttonEl =\n",
              "          document.querySelector('#df-995d1a3b-ae81-42f2-a7ef-54bd929b254b button.colab-df-convert');\n",
              "        buttonEl.style.display =\n",
              "          google.colab.kernel.accessAllowed ? 'block' : 'none';\n",
              "\n",
              "        async function convertToInteractive(key) {\n",
              "          const element = document.querySelector('#df-995d1a3b-ae81-42f2-a7ef-54bd929b254b');\n",
              "          const dataTable =\n",
              "            await google.colab.kernel.invokeFunction('convertToInteractive',\n",
              "                                                     [key], {});\n",
              "          if (!dataTable) return;\n",
              "\n",
              "          const docLinkHtml = 'Like what you see? Visit the ' +\n",
              "            '<a target=\"_blank\" href=https://colab.research.google.com/notebooks/data_table.ipynb>data table notebook</a>'\n",
              "            + ' to learn more about interactive tables.';\n",
              "          element.innerHTML = '';\n",
              "          dataTable['output_type'] = 'display_data';\n",
              "          await google.colab.output.renderOutput(dataTable, element);\n",
              "          const docLink = document.createElement('div');\n",
              "          docLink.innerHTML = docLinkHtml;\n",
              "          element.appendChild(docLink);\n",
              "        }\n",
              "      </script>\n",
              "    </div>\n",
              "  </div>\n",
              "  "
            ]
          },
          "metadata": {}
        }
      ]
    },
    {
      "cell_type": "markdown",
      "source": [
        "##### Prepare Dataframe (metadata_PD) for Initial Analysis of the Dataset [5 points]\n",
        "Explore the dataset by reading the other `.xlsx` files in each folder containing the list of subjects in that folder and their age and gender among other things. Read these files into a pandas dataframe for initial analysis of dataset.\n",
        "\n",
        "Go through this dataset in detail and ensure the following in your dataframe:\n",
        "\n",
        "1. Make sure the correct data is being read from the excel files. (HINT: pandas allows you to read excel data with its funcions and has excellent parameters to help you input the exact data you want from the excel file)\n",
        "2. Because of inconsistencies in the excel data sheet, you might see a bunch of NaNs. Feel free to use pandas functions like `dropna()` and `fillna()` to fix/remove NaN data values in dataframe."
      ],
      "metadata": {
        "id": "XDhHXFrDwspE"
      }
    },
    {
      "cell_type": "code",
      "source": [
        "# YOUR CODE HERE\n",
        "metadata_HC = pd.read_excel(\"drive/MyDrive/2023JHU/2023MLMA/Italian Parkinson's Voice and speech/15 Young Healthy Control/15 YHC.xlsx\",header=1)\n",
        "metadata_HC = metadata_HC.dropna()\n",
        "metadata_HC[\"drive\"] = \"drive/MyDrive/2023JHU/2023MLMA/Italian Parkinson's Voice and speech/15 Young Healthy Control/\"\n",
        "metadata_HC[\"label\"] = \"Healthy\"\n",
        "metadata_HC2 = pd.read_excel(\"drive/MyDrive/2023JHU/2023MLMA/Italian Parkinson's Voice and speech/22 Elderly Healthy Control/Tab 3.xlsx\",header=1)\n",
        "metadata_HC2 = metadata_HC2.dropna()\n",
        "metadata_HC2[\"drive\"] =\"drive/MyDrive/2023JHU/2023MLMA/Italian Parkinson's Voice and speech/22 Elderly Healthy Control\"\n",
        "metadata_HC2[\"label\"] = \"Healthy\"\n",
        "metadata_PD = pd.read_excel(\"drive/MyDrive/2023JHU/2023MLMA/Italian Parkinson's Voice and speech/28 People with Parkinson's disease/TAB 5.xlsx\",header=1)\n",
        "metadata_PD = metadata_PD.iloc[:,1:]\n",
        "metadata_PD = metadata_PD.dropna()\n",
        "metadata_PD[\"drive\"] = \"drive/MyDrive/2023JHU/2023MLMA/Italian Parkinson's Voice and speech/28 People with Parkinson's disease/\"\n",
        "metadata_PD[\"label\"] = \"Parkinson\"\n",
        "metadata_HC = metadata_HC.append(metadata_HC2, ignore_index=True)\n",
        "metadata_HC = metadata_HC.drop(columns=['from'])\n",
        "metadata_PD.columns = metadata_HC.columns\n",
        "metadata_PD = metadata_HC.append(metadata_PD, ignore_index=True)"
      ],
      "metadata": {
        "id": "hoCstlNOwlVT"
      },
      "execution_count": 7,
      "outputs": []
    },
    {
      "cell_type": "code",
      "source": [
        "display(metadata_PD)"
      ],
      "metadata": {
        "colab": {
          "base_uri": "https://localhost:8080/",
          "height": 424
        },
        "id": "GCwS6-y_3al3",
        "outputId": "98a06d31-c44a-4f67-989f-b1b945c28e50"
      },
      "execution_count": 8,
      "outputs": [
        {
          "output_type": "display_data",
          "data": {
            "text/plain": [
              "               name surname sex   age  time1       CPS1  time2       CPS2  \\\n",
              "0            Davide       M   M  19.0  45.61  11.357159   54.2   9.557196   \n",
              "1   Giuseppe Andrea       M   M  21.0   50.7  10.216963   47.2  10.974576   \n",
              "2        Alessandro       M   M  20.0  40.02  12.943528  40.12  12.911266   \n",
              "3          Giuseppe       M   M  29.0  41.61  12.448931  42.42  12.211221   \n",
              "4           Nicolas       M   M  22.0  45.32  11.429832  46.52  11.134996   \n",
              "..              ...     ...  ..   ...    ...        ...    ...        ...   \n",
              "60            Mario       M   M  72.0  117.6   4.404762   98.8   5.242915   \n",
              "61           Nicola       M   M  65.0  164.1   3.156612     //         //   \n",
              "62          Nicolo'       C   M  65.0    233   1.759657     //         //   \n",
              "63             Vito       L   M  70.0    112      4.625  106.6   4.859287   \n",
              "64             Vito       S   M  70.0   68.3   7.584187  61.47   8.426875   \n",
              "\n",
              "     time3      CPS3                                              drive  \\\n",
              "0    53.71  5.231800  drive/MyDrive/2023JHU/2023MLMA/Italian Parkins...   \n",
              "1    59.72  4.705291  drive/MyDrive/2023JHU/2023MLMA/Italian Parkins...   \n",
              "2    46.71  6.015842  drive/MyDrive/2023JHU/2023MLMA/Italian Parkins...   \n",
              "3    38.50  7.298701  drive/MyDrive/2023JHU/2023MLMA/Italian Parkins...   \n",
              "4    53.42  5.260202  drive/MyDrive/2023JHU/2023MLMA/Italian Parkins...   \n",
              "..     ...       ...                                                ...   \n",
              "60   87.51  3.211062  drive/MyDrive/2023JHU/2023MLMA/Italian Parkins...   \n",
              "61  151.30  1.857237  drive/MyDrive/2023JHU/2023MLMA/Italian Parkins...   \n",
              "62  217.30  0.957202  drive/MyDrive/2023JHU/2023MLMA/Italian Parkins...   \n",
              "63   68.31  4.113600  drive/MyDrive/2023JHU/2023MLMA/Italian Parkins...   \n",
              "64   64.50  4.356589  drive/MyDrive/2023JHU/2023MLMA/Italian Parkins...   \n",
              "\n",
              "        label  \n",
              "0     Healthy  \n",
              "1     Healthy  \n",
              "2     Healthy  \n",
              "3     Healthy  \n",
              "4     Healthy  \n",
              "..        ...  \n",
              "60  Parkinson  \n",
              "61  Parkinson  \n",
              "62  Parkinson  \n",
              "63  Parkinson  \n",
              "64  Parkinson  \n",
              "\n",
              "[65 rows x 12 columns]"
            ],
            "text/html": [
              "\n",
              "  <div id=\"df-8950f00d-af8b-4e35-ade6-4abf4727ec9d\">\n",
              "    <div class=\"colab-df-container\">\n",
              "      <div>\n",
              "<style scoped>\n",
              "    .dataframe tbody tr th:only-of-type {\n",
              "        vertical-align: middle;\n",
              "    }\n",
              "\n",
              "    .dataframe tbody tr th {\n",
              "        vertical-align: top;\n",
              "    }\n",
              "\n",
              "    .dataframe thead th {\n",
              "        text-align: right;\n",
              "    }\n",
              "</style>\n",
              "<table border=\"1\" class=\"dataframe\">\n",
              "  <thead>\n",
              "    <tr style=\"text-align: right;\">\n",
              "      <th></th>\n",
              "      <th>name</th>\n",
              "      <th>surname</th>\n",
              "      <th>sex</th>\n",
              "      <th>age</th>\n",
              "      <th>time1</th>\n",
              "      <th>CPS1</th>\n",
              "      <th>time2</th>\n",
              "      <th>CPS2</th>\n",
              "      <th>time3</th>\n",
              "      <th>CPS3</th>\n",
              "      <th>drive</th>\n",
              "      <th>label</th>\n",
              "    </tr>\n",
              "  </thead>\n",
              "  <tbody>\n",
              "    <tr>\n",
              "      <th>0</th>\n",
              "      <td>Davide</td>\n",
              "      <td>M</td>\n",
              "      <td>M</td>\n",
              "      <td>19.0</td>\n",
              "      <td>45.61</td>\n",
              "      <td>11.357159</td>\n",
              "      <td>54.2</td>\n",
              "      <td>9.557196</td>\n",
              "      <td>53.71</td>\n",
              "      <td>5.231800</td>\n",
              "      <td>drive/MyDrive/2023JHU/2023MLMA/Italian Parkins...</td>\n",
              "      <td>Healthy</td>\n",
              "    </tr>\n",
              "    <tr>\n",
              "      <th>1</th>\n",
              "      <td>Giuseppe Andrea</td>\n",
              "      <td>M</td>\n",
              "      <td>M</td>\n",
              "      <td>21.0</td>\n",
              "      <td>50.7</td>\n",
              "      <td>10.216963</td>\n",
              "      <td>47.2</td>\n",
              "      <td>10.974576</td>\n",
              "      <td>59.72</td>\n",
              "      <td>4.705291</td>\n",
              "      <td>drive/MyDrive/2023JHU/2023MLMA/Italian Parkins...</td>\n",
              "      <td>Healthy</td>\n",
              "    </tr>\n",
              "    <tr>\n",
              "      <th>2</th>\n",
              "      <td>Alessandro</td>\n",
              "      <td>M</td>\n",
              "      <td>M</td>\n",
              "      <td>20.0</td>\n",
              "      <td>40.02</td>\n",
              "      <td>12.943528</td>\n",
              "      <td>40.12</td>\n",
              "      <td>12.911266</td>\n",
              "      <td>46.71</td>\n",
              "      <td>6.015842</td>\n",
              "      <td>drive/MyDrive/2023JHU/2023MLMA/Italian Parkins...</td>\n",
              "      <td>Healthy</td>\n",
              "    </tr>\n",
              "    <tr>\n",
              "      <th>3</th>\n",
              "      <td>Giuseppe</td>\n",
              "      <td>M</td>\n",
              "      <td>M</td>\n",
              "      <td>29.0</td>\n",
              "      <td>41.61</td>\n",
              "      <td>12.448931</td>\n",
              "      <td>42.42</td>\n",
              "      <td>12.211221</td>\n",
              "      <td>38.50</td>\n",
              "      <td>7.298701</td>\n",
              "      <td>drive/MyDrive/2023JHU/2023MLMA/Italian Parkins...</td>\n",
              "      <td>Healthy</td>\n",
              "    </tr>\n",
              "    <tr>\n",
              "      <th>4</th>\n",
              "      <td>Nicolas</td>\n",
              "      <td>M</td>\n",
              "      <td>M</td>\n",
              "      <td>22.0</td>\n",
              "      <td>45.32</td>\n",
              "      <td>11.429832</td>\n",
              "      <td>46.52</td>\n",
              "      <td>11.134996</td>\n",
              "      <td>53.42</td>\n",
              "      <td>5.260202</td>\n",
              "      <td>drive/MyDrive/2023JHU/2023MLMA/Italian Parkins...</td>\n",
              "      <td>Healthy</td>\n",
              "    </tr>\n",
              "    <tr>\n",
              "      <th>...</th>\n",
              "      <td>...</td>\n",
              "      <td>...</td>\n",
              "      <td>...</td>\n",
              "      <td>...</td>\n",
              "      <td>...</td>\n",
              "      <td>...</td>\n",
              "      <td>...</td>\n",
              "      <td>...</td>\n",
              "      <td>...</td>\n",
              "      <td>...</td>\n",
              "      <td>...</td>\n",
              "      <td>...</td>\n",
              "    </tr>\n",
              "    <tr>\n",
              "      <th>60</th>\n",
              "      <td>Mario</td>\n",
              "      <td>M</td>\n",
              "      <td>M</td>\n",
              "      <td>72.0</td>\n",
              "      <td>117.6</td>\n",
              "      <td>4.404762</td>\n",
              "      <td>98.8</td>\n",
              "      <td>5.242915</td>\n",
              "      <td>87.51</td>\n",
              "      <td>3.211062</td>\n",
              "      <td>drive/MyDrive/2023JHU/2023MLMA/Italian Parkins...</td>\n",
              "      <td>Parkinson</td>\n",
              "    </tr>\n",
              "    <tr>\n",
              "      <th>61</th>\n",
              "      <td>Nicola</td>\n",
              "      <td>M</td>\n",
              "      <td>M</td>\n",
              "      <td>65.0</td>\n",
              "      <td>164.1</td>\n",
              "      <td>3.156612</td>\n",
              "      <td>//</td>\n",
              "      <td>//</td>\n",
              "      <td>151.30</td>\n",
              "      <td>1.857237</td>\n",
              "      <td>drive/MyDrive/2023JHU/2023MLMA/Italian Parkins...</td>\n",
              "      <td>Parkinson</td>\n",
              "    </tr>\n",
              "    <tr>\n",
              "      <th>62</th>\n",
              "      <td>Nicolo'</td>\n",
              "      <td>C</td>\n",
              "      <td>M</td>\n",
              "      <td>65.0</td>\n",
              "      <td>233</td>\n",
              "      <td>1.759657</td>\n",
              "      <td>//</td>\n",
              "      <td>//</td>\n",
              "      <td>217.30</td>\n",
              "      <td>0.957202</td>\n",
              "      <td>drive/MyDrive/2023JHU/2023MLMA/Italian Parkins...</td>\n",
              "      <td>Parkinson</td>\n",
              "    </tr>\n",
              "    <tr>\n",
              "      <th>63</th>\n",
              "      <td>Vito</td>\n",
              "      <td>L</td>\n",
              "      <td>M</td>\n",
              "      <td>70.0</td>\n",
              "      <td>112</td>\n",
              "      <td>4.625</td>\n",
              "      <td>106.6</td>\n",
              "      <td>4.859287</td>\n",
              "      <td>68.31</td>\n",
              "      <td>4.113600</td>\n",
              "      <td>drive/MyDrive/2023JHU/2023MLMA/Italian Parkins...</td>\n",
              "      <td>Parkinson</td>\n",
              "    </tr>\n",
              "    <tr>\n",
              "      <th>64</th>\n",
              "      <td>Vito</td>\n",
              "      <td>S</td>\n",
              "      <td>M</td>\n",
              "      <td>70.0</td>\n",
              "      <td>68.3</td>\n",
              "      <td>7.584187</td>\n",
              "      <td>61.47</td>\n",
              "      <td>8.426875</td>\n",
              "      <td>64.50</td>\n",
              "      <td>4.356589</td>\n",
              "      <td>drive/MyDrive/2023JHU/2023MLMA/Italian Parkins...</td>\n",
              "      <td>Parkinson</td>\n",
              "    </tr>\n",
              "  </tbody>\n",
              "</table>\n",
              "<p>65 rows × 12 columns</p>\n",
              "</div>\n",
              "      <button class=\"colab-df-convert\" onclick=\"convertToInteractive('df-8950f00d-af8b-4e35-ade6-4abf4727ec9d')\"\n",
              "              title=\"Convert this dataframe to an interactive table.\"\n",
              "              style=\"display:none;\">\n",
              "        \n",
              "  <svg xmlns=\"http://www.w3.org/2000/svg\" height=\"24px\"viewBox=\"0 0 24 24\"\n",
              "       width=\"24px\">\n",
              "    <path d=\"M0 0h24v24H0V0z\" fill=\"none\"/>\n",
              "    <path d=\"M18.56 5.44l.94 2.06.94-2.06 2.06-.94-2.06-.94-.94-2.06-.94 2.06-2.06.94zm-11 1L8.5 8.5l.94-2.06 2.06-.94-2.06-.94L8.5 2.5l-.94 2.06-2.06.94zm10 10l.94 2.06.94-2.06 2.06-.94-2.06-.94-.94-2.06-.94 2.06-2.06.94z\"/><path d=\"M17.41 7.96l-1.37-1.37c-.4-.4-.92-.59-1.43-.59-.52 0-1.04.2-1.43.59L10.3 9.45l-7.72 7.72c-.78.78-.78 2.05 0 2.83L4 21.41c.39.39.9.59 1.41.59.51 0 1.02-.2 1.41-.59l7.78-7.78 2.81-2.81c.8-.78.8-2.07 0-2.86zM5.41 20L4 18.59l7.72-7.72 1.47 1.35L5.41 20z\"/>\n",
              "  </svg>\n",
              "      </button>\n",
              "      \n",
              "  <style>\n",
              "    .colab-df-container {\n",
              "      display:flex;\n",
              "      flex-wrap:wrap;\n",
              "      gap: 12px;\n",
              "    }\n",
              "\n",
              "    .colab-df-convert {\n",
              "      background-color: #E8F0FE;\n",
              "      border: none;\n",
              "      border-radius: 50%;\n",
              "      cursor: pointer;\n",
              "      display: none;\n",
              "      fill: #1967D2;\n",
              "      height: 32px;\n",
              "      padding: 0 0 0 0;\n",
              "      width: 32px;\n",
              "    }\n",
              "\n",
              "    .colab-df-convert:hover {\n",
              "      background-color: #E2EBFA;\n",
              "      box-shadow: 0px 1px 2px rgba(60, 64, 67, 0.3), 0px 1px 3px 1px rgba(60, 64, 67, 0.15);\n",
              "      fill: #174EA6;\n",
              "    }\n",
              "\n",
              "    [theme=dark] .colab-df-convert {\n",
              "      background-color: #3B4455;\n",
              "      fill: #D2E3FC;\n",
              "    }\n",
              "\n",
              "    [theme=dark] .colab-df-convert:hover {\n",
              "      background-color: #434B5C;\n",
              "      box-shadow: 0px 1px 3px 1px rgba(0, 0, 0, 0.15);\n",
              "      filter: drop-shadow(0px 1px 2px rgba(0, 0, 0, 0.3));\n",
              "      fill: #FFFFFF;\n",
              "    }\n",
              "  </style>\n",
              "\n",
              "      <script>\n",
              "        const buttonEl =\n",
              "          document.querySelector('#df-8950f00d-af8b-4e35-ade6-4abf4727ec9d button.colab-df-convert');\n",
              "        buttonEl.style.display =\n",
              "          google.colab.kernel.accessAllowed ? 'block' : 'none';\n",
              "\n",
              "        async function convertToInteractive(key) {\n",
              "          const element = document.querySelector('#df-8950f00d-af8b-4e35-ade6-4abf4727ec9d');\n",
              "          const dataTable =\n",
              "            await google.colab.kernel.invokeFunction('convertToInteractive',\n",
              "                                                     [key], {});\n",
              "          if (!dataTable) return;\n",
              "\n",
              "          const docLinkHtml = 'Like what you see? Visit the ' +\n",
              "            '<a target=\"_blank\" href=https://colab.research.google.com/notebooks/data_table.ipynb>data table notebook</a>'\n",
              "            + ' to learn more about interactive tables.';\n",
              "          element.innerHTML = '';\n",
              "          dataTable['output_type'] = 'display_data';\n",
              "          await google.colab.output.renderOutput(dataTable, element);\n",
              "          const docLink = document.createElement('div');\n",
              "          docLink.innerHTML = docLinkHtml;\n",
              "          element.appendChild(docLink);\n",
              "        }\n",
              "      </script>\n",
              "    </div>\n",
              "  </div>\n",
              "  "
            ]
          },
          "metadata": {}
        }
      ]
    },
    {
      "cell_type": "markdown",
      "metadata": {
        "id": "nr7eB6tII4eE"
      },
      "source": [
        "##### ❓ QUESTION❓ [5 points]\n",
        "Is the dataset age and gender balanced? Support your answer with statistics from dataset"
      ]
    },
    {
      "cell_type": "markdown",
      "metadata": {
        "id": "l9-PhhQylNbp"
      },
      "source": [
        "\n",
        "`YOUR ANSWER HERE`\n",
        "The age and gender is not balanced."
      ]
    },
    {
      "cell_type": "code",
      "metadata": {
        "id": "c_IT_p_H6X5c",
        "colab": {
          "base_uri": "https://localhost:8080/",
          "height": 317
        },
        "outputId": "cc7e8099-ff28-42c7-b3a0-560b06f27043"
      },
      "source": [
        "# YOUR CODE HERE\n",
        "print(\"there are \",sum(metadata_PD[\"sex\"]=='F'),\" female\")\n",
        "print(\"there are \",sum(metadata_PD[\"sex\"]=='M'),\" male\")\n",
        "print(\"the gender ratio (F:M) is about \", sum(metadata_PD[\"sex\"]=='F')/sum(metadata_PD[\"sex\"]=='M'))\n",
        "plt.hist(metadata_PD[\"age\"],20)\n",
        "plt.show()"
      ],
      "execution_count": 9,
      "outputs": [
        {
          "output_type": "stream",
          "name": "stdout",
          "text": [
            "there are  23  female\n",
            "there are  42  male\n",
            "the gender ratio (F:M) is about  0.5476190476190477\n"
          ]
        },
        {
          "output_type": "display_data",
          "data": {
            "text/plain": [
              "<Figure size 432x288 with 1 Axes>"
            ],
            "image/png": "[encoded data removed]"
          },
          "metadata": {
            "needs_background": "light"
          }
        }
      ]
    },
    {
      "cell_type": "markdown",
      "metadata": {
        "id": "2pIC8LlHJJin"
      },
      "source": [
        "##### ❓ QUESTION❓ [5 points]\n",
        " The aim of this lab is to detect Parkinson's disease traits on speech using audio analysis and machine learning. This is a bi-class problem, so a classifier will give us the probability that an observation comes from a person with PD. Which of these 3 directories will you use and why? Please support your answer with facts from the database. You may want to use the `.xlsx` files in each directory <br>"
      ]
    },
    {
      "cell_type": "markdown",
      "metadata": {
        "id": "1cvt4RhtsXHK"
      },
      "source": [
        "`YOUR ANSWER HERE`\n",
        "We should only use samples from 22 Elderly Healthy Control and 28 People with Parkinson's disease. Because in this way, the age will be more balanced\n",
        "\n"
      ]
    },
    {
      "cell_type": "code",
      "metadata": {
        "id": "Z3c-4CAG6cXT",
        "colab": {
          "base_uri": "https://localhost:8080/",
          "height": 268
        },
        "outputId": "0f921517-295a-4755-e4ea-87ff5600ce2a"
      },
      "source": [
        "# YOUR CODE HERE\n",
        "metadata_PD = metadata_PD[metadata_PD[\"drive\"] != \"drive/MyDrive/2023JHU/2023MLMA/Italian Parkinson's Voice and speech/15 Young Healthy Control/\"]\n",
        "plt.hist(metadata_PD[\"age\"],5)\n",
        "plt.show()"
      ],
      "execution_count": 10,
      "outputs": [
        {
          "output_type": "display_data",
          "data": {
            "text/plain": [
              "<Figure size 432x288 with 1 Axes>"
            ],
            "image/png": "[encoded data removed]"
          },
          "metadata": {
            "needs_background": "light"
          }
        }
      ]
    },
    {
      "cell_type": "markdown",
      "metadata": {
        "id": "59bd4GQkoqR9"
      },
      "source": [
        "## Task 2 [30 points]\n",
        "\n",
        "As we said before, the goal of this lab is to train models to detect PD-related traits in speech and differentiate between people with and without PD automatically. But we will need to do some grid-search to find the optimal hyperparameters and also a cross-validation to report our best results. In the experiments, we will use the audios B1, B2 (2 recordings per speaker). We will divide our dataset into five partitions to do a 5-fold cross-validation. At each iteration, we will employ 3 partitions of the data for training, 1 for validation and 1 for testing.\n",
        "Have in mind that the audio from a speaker cannot be in two different folds!"
      ]
    },
    {
      "cell_type": "markdown",
      "metadata": {
        "id": "6JRV-sGTGMIP"
      },
      "source": [
        "##### Traverse through subdirectories and make dataframe with header <br>\n",
        "Make a dataframe named DATAPD with headers as {`speaker`, \t`gender` , `age`, `audio_file_for_spk_with_path`,`label_parkinsons`, `#fold`}  <br>\n",
        "You will need to use the excel files in the dataset to get `age` and `gender`. Please note that we will use only audio files starting with `B1` and `B2` for this lab, therefore, each speaker will have two rows: one for each audio. #fold indicates in which partition the recording will be allocated. #fold can go from 1 to 5.\n",
        "\n",
        "Medical datasets can have a plethora of inconsistencies in the real world and it becomes important to efficiently deal with these inconsistencies in dataset in the most efficient way possible. Here are a few tips for potential roadblocks you might face with this dataset:\n",
        "\n",
        "1. The names in folders and those in the excel sheets might not always match. You can use python functions like `str.replace()` and `str.strip()` to drop special characters and unwanted white space in name strings. You can also use functions like `str.upper()` or `str.lower()` to deal with inconsistencies in capitalizations. Also the first names and last names in dataset can be merged (using `+` operator) before comparing with directory names. Please feel free to use various strategies of your own to deal with these issues. \n",
        "2. There may be duplicate recordings of the same person in the dataset. Please make sure to take only one and ignore the others. Also, state in a comment what you have done about the duplicate entries.\n",
        "3. Some of the folders do not contain both `B1` and `B2` recordings. Have your code ignore those folders for this lab. \n",
        "4. A python package like `glob` can be used to search for path to `B1` and `B2` recordings in the folders but feel free to use your own strategy/function to do this.\n",
        "\n",
        "[12 points]"
      ]
    },
    {
      "cell_type": "code",
      "source": [
        "# YOUR CODE HERE\n",
        "#speaker, gender , age, audio_file_for_spk_with_path,label_parkinsons, #fold\n",
        "DATAPD = pd.DataFrame()\n",
        "metadata_PD = pd.read_excel(\"drive/MyDrive/2023JHU/2023MLMA/Italian Parkinson's Voice and speech/28 People with Parkinson's disease/TAB 5.xlsx\",header=1)\n",
        "metadata_PD.index = range(1,30)\n",
        "metadata_PD = metadata_PD.iloc[:,1:]\n",
        "metadata_PD = metadata_PD.dropna()\n",
        "x = np.array([1,2,3,4,5])\n",
        "x = np.repeat(x, [5,6,6,5,6], axis=0)\n",
        "random.Random(42).shuffle(x)\n",
        "metadata_PD[\"#fold\"] = x\n",
        "for i in metadata_PD.index:\n",
        "  age = metadata_PD.loc[i,\"age\"]\n",
        "  gender = metadata_PD.loc[i,\"sex\"]\n",
        "  name = metadata_PD.loc[i,\"name\"].strip().replace(\"*\",\"\").replace(\"o'\",\"ò\")\n",
        "  sur = metadata_PD.loc[i,\"surname\"].strip().replace(\"*\",\"\")\n",
        "  speaker = str(name+\" \"+sur)\n",
        "  fold = metadata_PD.loc[i,\"#fold\"]\n",
        "  if i <=5:\n",
        "    if os.path.exists(str(\"drive/MyDrive/2023JHU/2023MLMA/Italian Parkinson's Voice and speech/28 People with Parkinson's disease/1-5/\"+speaker)) == True:\n",
        "      drive = str(\"drive/MyDrive/2023JHU/2023MLMA/Italian Parkinson's Voice and speech/28 People with Parkinson's disease/1-5/\"+speaker)\n",
        "    else: \n",
        "      print(i,speaker)\n",
        "      continue\n",
        "  elif i>5 and i<=10:\n",
        "    if os.path.exists(str(\"drive/MyDrive/2023JHU/2023MLMA/Italian Parkinson's Voice and speech/28 People with Parkinson's disease/6-10/\"+speaker)) == True:\n",
        "      drive = str(\"drive/MyDrive/2023JHU/2023MLMA/Italian Parkinson's Voice and speech/28 People with Parkinson's disease/6-10/\"+speaker)\n",
        "    else:\n",
        "      print(i,speaker)\n",
        "      continue\n",
        "  elif i>10 and i<=16:\n",
        "    if os.path.exists(str(\"drive/MyDrive/2023JHU/2023MLMA/Italian Parkinson's Voice and speech/28 People with Parkinson's disease/11-16/\"+speaker)) == True:\n",
        "      drive = str(\"drive/MyDrive/2023JHU/2023MLMA/Italian Parkinson's Voice and speech/28 People with Parkinson's disease/11-16/\"+speaker)\n",
        "    else:\n",
        "      print(i,speaker)\n",
        "      continue\n",
        "  elif i >16 and i <=28:\n",
        "    if os.path.exists(str(\"drive/MyDrive/2023JHU/2023MLMA/Italian Parkinson's Voice and speech/28 People with Parkinson's disease/17-28/\"+speaker)) == True:\n",
        "      drive = str(\"drive/MyDrive/2023JHU/2023MLMA/Italian Parkinson's Voice and speech/28 People with Parkinson's disease/17-28/\"+speaker)\n",
        "    else:\n",
        "      print(i,speaker)\n",
        "      continue\n",
        "  \n",
        "  path = os.listdir(drive)\n",
        "  path1 = np.nan\n",
        "  path2 = np.nan\n",
        "  for p in path:\n",
        "    if p.startswith('B1'):\n",
        "      path1 = os.path.join(drive,p)\n",
        "    if p.startswith('B2'):\n",
        "      path2 = os.path.join(drive,p)\n",
        "  tmp = pd.DataFrame({\"speaker\": [speaker,speaker],\"gender\": [gender,gender], \"age\":[age,age],\n",
        "                      \"audio_file_for_spk_with_path\":[path1,path2],\"label_parkinsons\":[\"PD\",\"PD\"],\"#fold\":[fold,fold]})\n",
        "  DATAPD = DATAPD.append(tmp,ignore_index=True)\n",
        "\n",
        "\n",
        "\n",
        "metadata_HC2 = pd.read_excel(\"drive/MyDrive/2023JHU/2023MLMA/Italian Parkinson's Voice and speech/22 Elderly Healthy Control/Tab 3.xlsx\",header=1)\n",
        "metadata_HC2 = metadata_HC2.dropna()\n",
        "x = np.array([1, 2,3,4,5])\n",
        "x = np.repeat(x, [4,3,3,3,4], axis=0)\n",
        "random.Random(43).shuffle(x)\n",
        "n = 0\n",
        "for i in metadata_HC2.index:\n",
        "  name = metadata_HC2.loc[i,\"name\"].strip().upper().replace(\"*\",\"\")\n",
        "  sur = metadata_HC2.loc[i,\"surname\"].strip().replace(\"*\",\"\")\n",
        "  gender = metadata_HC2.loc[i,\"sex\"]\n",
        "  age = metadata_HC2.loc[i,\"age\"]\n",
        "  speaker = str(name+\" \"+sur)\n",
        "  drive = \"drive/MyDrive/2023JHU/2023MLMA/Italian Parkinson's Voice and speech/22 Elderly Healthy Control/\"\n",
        "  if os.path.exists(str(drive+speaker)) == True:\n",
        "    path = os.listdir(str(drive+speaker))\n",
        "    fold = x[n]\n",
        "    n+=1\n",
        "  else:\n",
        "    continue\n",
        "    print(str(drive+speaker))\n",
        "  drive = str(drive+speaker)\n",
        "  path1 = np.nan\n",
        "  path2 = np.nan\n",
        "  for p in path:\n",
        "    if p.startswith('B1'):\n",
        "      path1 = os.path.join(drive,p)\n",
        "    if p.startswith('B2'):\n",
        "      path2 = os.path.join(drive,p)\n",
        "  tmp = pd.DataFrame({\"speaker\": [speaker,speaker],\"gender\": [gender,gender], \"age\":[age,age],\n",
        "                      \"audio_file_for_spk_with_path\":[path1,path2],\"label_parkinsons\":[\"HC\",\"HC\"],\"#fold\":[fold,fold]})\n",
        "  \n",
        "  DATAPD = DATAPD.append(tmp,ignore_index=True)"
      ],
      "metadata": {
        "id": "8Hck7XGMqLt5",
        "colab": {
          "base_uri": "https://localhost:8080/"
        },
        "outputId": "c924aa55-c398-4580-81bf-1a809f26e56c"
      },
      "execution_count": 11,
      "outputs": [
        {
          "output_type": "stream",
          "name": "stdout",
          "text": [
            "24 Mario M\n"
          ]
        }
      ]
    },
    {
      "cell_type": "code",
      "source": [
        "DATAPD = DATAPD.dropna()\n",
        "DATAPD"
      ],
      "metadata": {
        "colab": {
          "base_uri": "https://localhost:8080/",
          "height": 424
        },
        "id": "lDBHcMPr3B5i",
        "outputId": "e54046de-b5e5-4b54-acbd-d5a62d4dc234"
      },
      "execution_count": 12,
      "outputs": [
        {
          "output_type": "execute_result",
          "data": {
            "text/plain": [
              "        speaker gender   age  \\\n",
              "0   Felicetta C      F  63.0   \n",
              "1   Felicetta C      F  63.0   \n",
              "2    Domenico C      M  50.0   \n",
              "3    Domenico C      M  50.0   \n",
              "4    Leonarda L      F  61.0   \n",
              "..          ...    ...   ...   \n",
              "83   GIOVANNA G      F  70.0   \n",
              "84     NICOLA P      M  75.0   \n",
              "85     NICOLA P      M  75.0   \n",
              "86     GRAZIA G      F  72.0   \n",
              "87     GRAZIA G      F  72.0   \n",
              "\n",
              "                         audio_file_for_spk_with_path label_parkinsons  #fold  \n",
              "0   drive/MyDrive/2023JHU/2023MLMA/Italian Parkins...               PD      4  \n",
              "1   drive/MyDrive/2023JHU/2023MLMA/Italian Parkins...               PD      4  \n",
              "2   drive/MyDrive/2023JHU/2023MLMA/Italian Parkins...               PD      3  \n",
              "3   drive/MyDrive/2023JHU/2023MLMA/Italian Parkins...               PD      3  \n",
              "4   drive/MyDrive/2023JHU/2023MLMA/Italian Parkins...               PD      2  \n",
              "..                                                ...              ...    ...  \n",
              "83  drive/MyDrive/2023JHU/2023MLMA/Italian Parkins...               HC      4  \n",
              "84  drive/MyDrive/2023JHU/2023MLMA/Italian Parkins...               HC      3  \n",
              "85  drive/MyDrive/2023JHU/2023MLMA/Italian Parkins...               HC      3  \n",
              "86  drive/MyDrive/2023JHU/2023MLMA/Italian Parkins...               HC      1  \n",
              "87  drive/MyDrive/2023JHU/2023MLMA/Italian Parkins...               HC      1  \n",
              "\n",
              "[82 rows x 6 columns]"
            ],
            "text/html": [
              "\n",
              "  <div id=\"df-cdb1bf82-9748-435a-b3d0-8da5bea6ffb0\">\n",
              "    <div class=\"colab-df-container\">\n",
              "      <div>\n",
              "<style scoped>\n",
              "    .dataframe tbody tr th:only-of-type {\n",
              "        vertical-align: middle;\n",
              "    }\n",
              "\n",
              "    .dataframe tbody tr th {\n",
              "        vertical-align: top;\n",
              "    }\n",
              "\n",
              "    .dataframe thead th {\n",
              "        text-align: right;\n",
              "    }\n",
              "</style>\n",
              "<table border=\"1\" class=\"dataframe\">\n",
              "  <thead>\n",
              "    <tr style=\"text-align: right;\">\n",
              "      <th></th>\n",
              "      <th>speaker</th>\n",
              "      <th>gender</th>\n",
              "      <th>age</th>\n",
              "      <th>audio_file_for_spk_with_path</th>\n",
              "      <th>label_parkinsons</th>\n",
              "      <th>#fold</th>\n",
              "    </tr>\n",
              "  </thead>\n",
              "  <tbody>\n",
              "    <tr>\n",
              "      <th>0</th>\n",
              "      <td>Felicetta C</td>\n",
              "      <td>F</td>\n",
              "      <td>63.0</td>\n",
              "      <td>drive/MyDrive/2023JHU/2023MLMA/Italian Parkins...</td>\n",
              "      <td>PD</td>\n",
              "      <td>4</td>\n",
              "    </tr>\n",
              "    <tr>\n",
              "      <th>1</th>\n",
              "      <td>Felicetta C</td>\n",
              "      <td>F</td>\n",
              "      <td>63.0</td>\n",
              "      <td>drive/MyDrive/2023JHU/2023MLMA/Italian Parkins...</td>\n",
              "      <td>PD</td>\n",
              "      <td>4</td>\n",
              "    </tr>\n",
              "    <tr>\n",
              "      <th>2</th>\n",
              "      <td>Domenico C</td>\n",
              "      <td>M</td>\n",
              "      <td>50.0</td>\n",
              "      <td>drive/MyDrive/2023JHU/2023MLMA/Italian Parkins...</td>\n",
              "      <td>PD</td>\n",
              "      <td>3</td>\n",
              "    </tr>\n",
              "    <tr>\n",
              "      <th>3</th>\n",
              "      <td>Domenico C</td>\n",
              "      <td>M</td>\n",
              "      <td>50.0</td>\n",
              "      <td>drive/MyDrive/2023JHU/2023MLMA/Italian Parkins...</td>\n",
              "      <td>PD</td>\n",
              "      <td>3</td>\n",
              "    </tr>\n",
              "    <tr>\n",
              "      <th>4</th>\n",
              "      <td>Leonarda L</td>\n",
              "      <td>F</td>\n",
              "      <td>61.0</td>\n",
              "      <td>drive/MyDrive/2023JHU/2023MLMA/Italian Parkins...</td>\n",
              "      <td>PD</td>\n",
              "      <td>2</td>\n",
              "    </tr>\n",
              "    <tr>\n",
              "      <th>...</th>\n",
              "      <td>...</td>\n",
              "      <td>...</td>\n",
              "      <td>...</td>\n",
              "      <td>...</td>\n",
              "      <td>...</td>\n",
              "      <td>...</td>\n",
              "    </tr>\n",
              "    <tr>\n",
              "      <th>83</th>\n",
              "      <td>GIOVANNA G</td>\n",
              "      <td>F</td>\n",
              "      <td>70.0</td>\n",
              "      <td>drive/MyDrive/2023JHU/2023MLMA/Italian Parkins...</td>\n",
              "      <td>HC</td>\n",
              "      <td>4</td>\n",
              "    </tr>\n",
              "    <tr>\n",
              "      <th>84</th>\n",
              "      <td>NICOLA P</td>\n",
              "      <td>M</td>\n",
              "      <td>75.0</td>\n",
              "      <td>drive/MyDrive/2023JHU/2023MLMA/Italian Parkins...</td>\n",
              "      <td>HC</td>\n",
              "      <td>3</td>\n",
              "    </tr>\n",
              "    <tr>\n",
              "      <th>85</th>\n",
              "      <td>NICOLA P</td>\n",
              "      <td>M</td>\n",
              "      <td>75.0</td>\n",
              "      <td>drive/MyDrive/2023JHU/2023MLMA/Italian Parkins...</td>\n",
              "      <td>HC</td>\n",
              "      <td>3</td>\n",
              "    </tr>\n",
              "    <tr>\n",
              "      <th>86</th>\n",
              "      <td>GRAZIA G</td>\n",
              "      <td>F</td>\n",
              "      <td>72.0</td>\n",
              "      <td>drive/MyDrive/2023JHU/2023MLMA/Italian Parkins...</td>\n",
              "      <td>HC</td>\n",
              "      <td>1</td>\n",
              "    </tr>\n",
              "    <tr>\n",
              "      <th>87</th>\n",
              "      <td>GRAZIA G</td>\n",
              "      <td>F</td>\n",
              "      <td>72.0</td>\n",
              "      <td>drive/MyDrive/2023JHU/2023MLMA/Italian Parkins...</td>\n",
              "      <td>HC</td>\n",
              "      <td>1</td>\n",
              "    </tr>\n",
              "  </tbody>\n",
              "</table>\n",
              "<p>82 rows × 6 columns</p>\n",
              "</div>\n",
              "      <button class=\"colab-df-convert\" onclick=\"convertToInteractive('df-cdb1bf82-9748-435a-b3d0-8da5bea6ffb0')\"\n",
              "              title=\"Convert this dataframe to an interactive table.\"\n",
              "              style=\"display:none;\">\n",
              "        \n",
              "  <svg xmlns=\"http://www.w3.org/2000/svg\" height=\"24px\"viewBox=\"0 0 24 24\"\n",
              "       width=\"24px\">\n",
              "    <path d=\"M0 0h24v24H0V0z\" fill=\"none\"/>\n",
              "    <path d=\"M18.56 5.44l.94 2.06.94-2.06 2.06-.94-2.06-.94-.94-2.06-.94 2.06-2.06.94zm-11 1L8.5 8.5l.94-2.06 2.06-.94-2.06-.94L8.5 2.5l-.94 2.06-2.06.94zm10 10l.94 2.06.94-2.06 2.06-.94-2.06-.94-.94-2.06-.94 2.06-2.06.94z\"/><path d=\"M17.41 7.96l-1.37-1.37c-.4-.4-.92-.59-1.43-.59-.52 0-1.04.2-1.43.59L10.3 9.45l-7.72 7.72c-.78.78-.78 2.05 0 2.83L4 21.41c.39.39.9.59 1.41.59.51 0 1.02-.2 1.41-.59l7.78-7.78 2.81-2.81c.8-.78.8-2.07 0-2.86zM5.41 20L4 18.59l7.72-7.72 1.47 1.35L5.41 20z\"/>\n",
              "  </svg>\n",
              "      </button>\n",
              "      \n",
              "  <style>\n",
              "    .colab-df-container {\n",
              "      display:flex;\n",
              "      flex-wrap:wrap;\n",
              "      gap: 12px;\n",
              "    }\n",
              "\n",
              "    .colab-df-convert {\n",
              "      background-color: #E8F0FE;\n",
              "      border: none;\n",
              "      border-radius: 50%;\n",
              "      cursor: pointer;\n",
              "      display: none;\n",
              "      fill: #1967D2;\n",
              "      height: 32px;\n",
              "      padding: 0 0 0 0;\n",
              "      width: 32px;\n",
              "    }\n",
              "\n",
              "    .colab-df-convert:hover {\n",
              "      background-color: #E2EBFA;\n",
              "      box-shadow: 0px 1px 2px rgba(60, 64, 67, 0.3), 0px 1px 3px 1px rgba(60, 64, 67, 0.15);\n",
              "      fill: #174EA6;\n",
              "    }\n",
              "\n",
              "    [theme=dark] .colab-df-convert {\n",
              "      background-color: #3B4455;\n",
              "      fill: #D2E3FC;\n",
              "    }\n",
              "\n",
              "    [theme=dark] .colab-df-convert:hover {\n",
              "      background-color: #434B5C;\n",
              "      box-shadow: 0px 1px 3px 1px rgba(0, 0, 0, 0.15);\n",
              "      filter: drop-shadow(0px 1px 2px rgba(0, 0, 0, 0.3));\n",
              "      fill: #FFFFFF;\n",
              "    }\n",
              "  </style>\n",
              "\n",
              "      <script>\n",
              "        const buttonEl =\n",
              "          document.querySelector('#df-cdb1bf82-9748-435a-b3d0-8da5bea6ffb0 button.colab-df-convert');\n",
              "        buttonEl.style.display =\n",
              "          google.colab.kernel.accessAllowed ? 'block' : 'none';\n",
              "\n",
              "        async function convertToInteractive(key) {\n",
              "          const element = document.querySelector('#df-cdb1bf82-9748-435a-b3d0-8da5bea6ffb0');\n",
              "          const dataTable =\n",
              "            await google.colab.kernel.invokeFunction('convertToInteractive',\n",
              "                                                     [key], {});\n",
              "          if (!dataTable) return;\n",
              "\n",
              "          const docLinkHtml = 'Like what you see? Visit the ' +\n",
              "            '<a target=\"_blank\" href=https://colab.research.google.com/notebooks/data_table.ipynb>data table notebook</a>'\n",
              "            + ' to learn more about interactive tables.';\n",
              "          element.innerHTML = '';\n",
              "          dataTable['output_type'] = 'display_data';\n",
              "          await google.colab.output.renderOutput(dataTable, element);\n",
              "          const docLink = document.createElement('div');\n",
              "          docLink.innerHTML = docLinkHtml;\n",
              "          element.appendChild(docLink);\n",
              "        }\n",
              "      </script>\n",
              "    </div>\n",
              "  </div>\n",
              "  "
            ]
          },
          "metadata": {},
          "execution_count": 12
        }
      ]
    },
    {
      "cell_type": "markdown",
      "metadata": {
        "id": "noF2JCoY2ehY"
      },
      "source": [
        "##### Train-val-test split [15 points]\n",
        "\n",
        "Please explain in comments at the end your strategy to split Train-val-test split for the 5 folds (3 folds for training, 1 for validation and 1 for testing.)\n",
        "\n",
        "NOTE: Train-validation-test sets CANNOT have any overlap! There should be no data leakage: the same speaker cannot have recordings in training and testing, even if those recordings are different.\n"
      ]
    },
    {
      "cell_type": "markdown",
      "source": [
        "I shuffled the patient list in each directory and randomlly split in 5 folds to make sure split base on patient level. I identified the validation and test set first to make sure they don't overlaps each term, and I set the training fold as the other folds except the test and validation folds. "
      ],
      "metadata": {
        "id": "ibs-1QQ-3VgW"
      }
    },
    {
      "cell_type": "code",
      "metadata": {
        "id": "QZJAxVST794j",
        "colab": {
          "base_uri": "https://localhost:8080/"
        },
        "outputId": "995fd850-de92-4046-973f-3e18298f0154"
      },
      "source": [
        "# YOUR CODE HERE\n",
        "train_val_test = dict.fromkeys([\"train\",\"val\",\"test\"],[])\n",
        "train_val_test[\"val\"] = [2,3,4,5,1]\n",
        "train_val_test[\"test\"] = [1,2,3,4,5]\n",
        "for i in range(5):\n",
        "  f = [1,2,3,4,5]\n",
        "  f.remove(train_val_test[\"val\"][i])\n",
        "  f.remove(train_val_test[\"test\"][i])\n",
        "  #print(f)\n",
        "  train_val_test[\"train\"].append(f)\n",
        "train_val_test"
      ],
      "execution_count": 13,
      "outputs": [
        {
          "output_type": "execute_result",
          "data": {
            "text/plain": [
              "{'train': [[3, 4, 5], [1, 4, 5], [1, 2, 5], [1, 2, 3], [2, 3, 4]],\n",
              " 'val': [2, 3, 4, 5, 1],\n",
              " 'test': [1, 2, 3, 4, 5]}"
            ]
          },
          "metadata": {},
          "execution_count": 13
        }
      ]
    },
    {
      "cell_type": "markdown",
      "metadata": {
        "id": "Dxs_ruF8wkZ-"
      },
      "source": [
        "##### Check gender distribution for train, val and test for any one of the partitions [3 points]"
      ]
    },
    {
      "cell_type": "code",
      "metadata": {
        "id": "MSo3Btv0FSfs",
        "colab": {
          "base_uri": "https://localhost:8080/"
        },
        "outputId": "a1b3ac48-87b4-49d5-8d4b-83dd02dabef7"
      },
      "source": [
        "# YOUR CODE HERE\n",
        "test = DATAPD[DATAPD[\"#fold\"]==train_val_test[\"test\"][2]]\n",
        "val = DATAPD[DATAPD[\"#fold\"]==train_val_test[\"val\"][2]]\n",
        "train = DATAPD[DATAPD[\"#fold\"].isin(train_val_test[\"train\"][2])]\n",
        "\n",
        "print(\"age mean for test: \", np.mean(test[\"age\"]))\n",
        "print(\"age mean for val: \", np.mean(val[\"age\"]))\n",
        "print(\"age mean for train: \", np.mean(train[\"age\"]))"
      ],
      "execution_count": 14,
      "outputs": [
        {
          "output_type": "stream",
          "name": "stdout",
          "text": [
            "age mean for test:  66.11111111111111\n",
            "age mean for val:  68.375\n",
            "age mean for train:  67.08333333333333\n"
          ]
        }
      ]
    },
    {
      "cell_type": "markdown",
      "metadata": {
        "id": "Efcm-sBl-bl0"
      },
      "source": [
        "## Task 3 [30 points]: Feature extraction\n",
        "Generate a function that can calculate the Mel-Frequency Cepstral Coefficients (MFCC) features with 12 coefficients for a given audio. For this you will need frame the signals using hamming window, with 20 ms frame length and 10 msec overlap. Also concatenate delta features (first derivative) to obtain MFCC+deltas. After adding deltas you will have a 24-dimensional vector per each frame. If you add also the second derivative (optional) the vector will have 36 coefficients.\n",
        "\n",
        "Use librosa python package to get mfcc features. librosa is a python package for audio analysis. Read the librosa documentation to learn about its implementation (https://librosa.org/doc/latest/index.html).\n",
        "\n",
        "[12 points]"
      ]
    },
    {
      "cell_type": "code",
      "metadata": {
        "id": "jiEaM2xwM-eO"
      },
      "source": [
        "def get_mfcc_features(audio_file_path):\n",
        "  '''\n",
        "  Get mfcc features using librosa. The MFCC parameters should be 20 msec window, window overlap of 10 msec and 12 co-efficients of MFCC. \n",
        "  Also include delta co-efficients. \n",
        "  Returns concatenated mfcc delta of dimension (n_frame x n_dim)\n",
        "  '''\n",
        "  # YOUR CODE HERE\n",
        "  # return mfcc_delta\n",
        "  # Load the example clip\n",
        "  \n",
        "  y, sr = librosa.load(audio_file_path)\n",
        "  n_fft = int(sr/1000*20)\n",
        "  hop_length = int(sr/1000*10)\n",
        "  mfcc = librosa.feature.mfcc(y=y, sr=sr, hop_length=hop_length, n_mfcc=12,n_fft=n_fft)\n",
        "  mfcc_delta = librosa.feature.delta(mfcc)\n",
        "  mfcc_delta = np.vstack((mfcc,mfcc_delta))\n",
        "  \n",
        "  return mfcc_delta"
      ],
      "execution_count": 15,
      "outputs": []
    },
    {
      "cell_type": "markdown",
      "metadata": {
        "id": "hpDm3mlgxiFf"
      },
      "source": [
        "##### MFCC features depend on number of frames of the files. Therefore, we will have a sequence and we should use a sequence-to-vector classifier in this case. However, to simplify the experiments, we will obtain a single vector from the sequence of MFCCs that we will use for classification. That vector will be called \"MFCC statistics\". In this task, you will have to obtain statistics for MFCC feature sequence (mean,variance,skewness,kurtosis) and use to obtain a final feature vector (\"MFCC statistics\") [8 points].\n",
        "\n"
      ]
    },
    {
      "cell_type": "code",
      "metadata": {
        "id": "L5rQlEafjGTb"
      },
      "source": [
        "def get_mfcc_stats(mfcc_delta):\n",
        "  '''\n",
        "  Return stats of `mfcc_delta` features: mean, variance, kurtosis, skewness. These will be used as features for classifier\n",
        "  '''\n",
        "  # YOUR CODE HERE\n",
        "  mfcc_stats = []\n",
        "  for i in range(mfcc_delta.shape[0]):\n",
        "    tmp = [np.mean(mfcc_delta[i]),np.var(mfcc_delta[i]),kurtosis(mfcc_delta[i]),skew(mfcc_delta[i])]\n",
        "    #print(tmp)\n",
        "    for j in tmp:\n",
        "      mfcc_stats.append(j)\n",
        "  # return mfcc_stats\n",
        "  return np.array(mfcc_stats)"
      ],
      "execution_count": 16,
      "outputs": []
    },
    {
      "cell_type": "markdown",
      "metadata": {
        "id": "0F7WNjdq925q"
      },
      "source": [
        "##### Using the previous functions, generate a function that can get MFCC statistics per speaker [10 points]\n",
        "Since there are two files per speaker, you can obtain the MFCC features for each file using `get_mfcc_features`, concatenate the features and then obtain statistics using `get_mfcc_stats`. You can store these features in the dataframe by adding a new column.\n",
        "\n",
        "Hint: For a recording, you have many frames, and each fram has a 24 dimensional vector. After obtaining statistics you will have a single vector that will have a dimension of 24x4 (mean, variance, kurtosis, skewness)"
      ]
    },
    {
      "cell_type": "code",
      "metadata": {
        "id": "y3ipMj1S_Axj"
      },
      "source": [
        "def add_features_to_df(DATAPD):\n",
        "  \"\"\"\n",
        "  Input: DATAPD was generated in Task 2 and contains the paths to each audio.\n",
        "  Output: DATAPDFEATS it's the same as DATAPD but it has a new column that contains one feature vector per audio file.\n",
        "  The feature vectors are calculated with the MFCC-related functions created previously\n",
        "  \"\"\"\n",
        "# YOUR CODE HERE\n",
        "# You will have to use get_mfcc_features(audio_file_path) and get_mfcc_stats(mfcc_delta) here.\n",
        "  DATAPD[\"feature\"] = \"\"\n",
        "  DATAPD[\"feature\"] = DATAPD[\"feature\"].astype(object)\n",
        "  for i in DATAPD.index:\n",
        "    mfcc_delta = get_mfcc_features(DATAPD.loc[i,\"audio_file_for_spk_with_path\"])\n",
        "    mfcc_stats = get_mfcc_stats(mfcc_delta)\n",
        "    DATAPD.at[i,\"feature\"] = mfcc_stats\n",
        "  return DATAPD"
      ],
      "execution_count": 17,
      "outputs": []
    },
    {
      "cell_type": "code",
      "source": [
        "# takes about 4 min\n",
        "DATAPDFEATS = add_features_to_df(DATAPD)\n",
        "DATAPDFEATS"
      ],
      "metadata": {
        "id": "0f4sIoYDJNqV",
        "colab": {
          "base_uri": "https://localhost:8080/",
          "height": 424
        },
        "outputId": "fdb4551e-7096-4e95-b14b-61d2f6374c41"
      },
      "execution_count": 18,
      "outputs": [
        {
          "output_type": "execute_result",
          "data": {
            "text/plain": [
              "        speaker gender   age  \\\n",
              "0   Felicetta C      F  63.0   \n",
              "1   Felicetta C      F  63.0   \n",
              "2    Domenico C      M  50.0   \n",
              "3    Domenico C      M  50.0   \n",
              "4    Leonarda L      F  61.0   \n",
              "..          ...    ...   ...   \n",
              "83   GIOVANNA G      F  70.0   \n",
              "84     NICOLA P      M  75.0   \n",
              "85     NICOLA P      M  75.0   \n",
              "86     GRAZIA G      F  72.0   \n",
              "87     GRAZIA G      F  72.0   \n",
              "\n",
              "                         audio_file_for_spk_with_path label_parkinsons  #fold  \\\n",
              "0   drive/MyDrive/2023JHU/2023MLMA/Italian Parkins...               PD      4   \n",
              "1   drive/MyDrive/2023JHU/2023MLMA/Italian Parkins...               PD      4   \n",
              "2   drive/MyDrive/2023JHU/2023MLMA/Italian Parkins...               PD      3   \n",
              "3   drive/MyDrive/2023JHU/2023MLMA/Italian Parkins...               PD      3   \n",
              "4   drive/MyDrive/2023JHU/2023MLMA/Italian Parkins...               PD      2   \n",
              "..                                                ...              ...    ...   \n",
              "83  drive/MyDrive/2023JHU/2023MLMA/Italian Parkins...               HC      4   \n",
              "84  drive/MyDrive/2023JHU/2023MLMA/Italian Parkins...               HC      3   \n",
              "85  drive/MyDrive/2023JHU/2023MLMA/Italian Parkins...               HC      3   \n",
              "86  drive/MyDrive/2023JHU/2023MLMA/Italian Parkins...               HC      1   \n",
              "87  drive/MyDrive/2023JHU/2023MLMA/Italian Parkins...               HC      1   \n",
              "\n",
              "                                              feature  \n",
              "0   [-574.3449096679688, 7339.04248046875, -1.0604...  \n",
              "1   [-573.2605590820312, 7789.4140625, -0.87454502...  \n",
              "2   [-610.3612670898438, 18128.544921875, -1.22934...  \n",
              "3   [-576.2311401367188, 14235.1005859375, -1.1444...  \n",
              "4   [-600.5389404296875, 11368.4873046875, -0.8640...  \n",
              "..                                                ...  \n",
              "83  [-734.8178100585938, 9827.55078125, -0.9577708...  \n",
              "84  [-544.97314453125, 10126.3583984375, -1.091976...  \n",
              "85  [-572.1801147460938, 12615.5498046875, -1.0844...  \n",
              "86  [-707.4409790039062, 7454.21875, -0.8060340772...  \n",
              "87  [-692.1459350585938, 8193.88671875, -0.7211997...  \n",
              "\n",
              "[82 rows x 7 columns]"
            ],
            "text/html": [
              "\n",
              "  <div id=\"df-f166e931-a673-4b9e-87e3-05655e0a9720\">\n",
              "    <div class=\"colab-df-container\">\n",
              "      <div>\n",
              "<style scoped>\n",
              "    .dataframe tbody tr th:only-of-type {\n",
              "        vertical-align: middle;\n",
              "    }\n",
              "\n",
              "    .dataframe tbody tr th {\n",
              "        vertical-align: top;\n",
              "    }\n",
              "\n",
              "    .dataframe thead th {\n",
              "        text-align: right;\n",
              "    }\n",
              "</style>\n",
              "<table border=\"1\" class=\"dataframe\">\n",
              "  <thead>\n",
              "    <tr style=\"text-align: right;\">\n",
              "      <th></th>\n",
              "      <th>speaker</th>\n",
              "      <th>gender</th>\n",
              "      <th>age</th>\n",
              "      <th>audio_file_for_spk_with_path</th>\n",
              "      <th>label_parkinsons</th>\n",
              "      <th>#fold</th>\n",
              "      <th>feature</th>\n",
              "    </tr>\n",
              "  </thead>\n",
              "  <tbody>\n",
              "    <tr>\n",
              "      <th>0</th>\n",
              "      <td>Felicetta C</td>\n",
              "      <td>F</td>\n",
              "      <td>63.0</td>\n",
              "      <td>drive/MyDrive/2023JHU/2023MLMA/Italian Parkins...</td>\n",
              "      <td>PD</td>\n",
              "      <td>4</td>\n",
              "      <td>[-574.3449096679688, 7339.04248046875, -1.0604...</td>\n",
              "    </tr>\n",
              "    <tr>\n",
              "      <th>1</th>\n",
              "      <td>Felicetta C</td>\n",
              "      <td>F</td>\n",
              "      <td>63.0</td>\n",
              "      <td>drive/MyDrive/2023JHU/2023MLMA/Italian Parkins...</td>\n",
              "      <td>PD</td>\n",
              "      <td>4</td>\n",
              "      <td>[-573.2605590820312, 7789.4140625, -0.87454502...</td>\n",
              "    </tr>\n",
              "    <tr>\n",
              "      <th>2</th>\n",
              "      <td>Domenico C</td>\n",
              "      <td>M</td>\n",
              "      <td>50.0</td>\n",
              "      <td>drive/MyDrive/2023JHU/2023MLMA/Italian Parkins...</td>\n",
              "      <td>PD</td>\n",
              "      <td>3</td>\n",
              "      <td>[-610.3612670898438, 18128.544921875, -1.22934...</td>\n",
              "    </tr>\n",
              "    <tr>\n",
              "      <th>3</th>\n",
              "      <td>Domenico C</td>\n",
              "      <td>M</td>\n",
              "      <td>50.0</td>\n",
              "      <td>drive/MyDrive/2023JHU/2023MLMA/Italian Parkins...</td>\n",
              "      <td>PD</td>\n",
              "      <td>3</td>\n",
              "      <td>[-576.2311401367188, 14235.1005859375, -1.1444...</td>\n",
              "    </tr>\n",
              "    <tr>\n",
              "      <th>4</th>\n",
              "      <td>Leonarda L</td>\n",
              "      <td>F</td>\n",
              "      <td>61.0</td>\n",
              "      <td>drive/MyDrive/2023JHU/2023MLMA/Italian Parkins...</td>\n",
              "      <td>PD</td>\n",
              "      <td>2</td>\n",
              "      <td>[-600.5389404296875, 11368.4873046875, -0.8640...</td>\n",
              "    </tr>\n",
              "    <tr>\n",
              "      <th>...</th>\n",
              "      <td>...</td>\n",
              "      <td>...</td>\n",
              "      <td>...</td>\n",
              "      <td>...</td>\n",
              "      <td>...</td>\n",
              "      <td>...</td>\n",
              "      <td>...</td>\n",
              "    </tr>\n",
              "    <tr>\n",
              "      <th>83</th>\n",
              "      <td>GIOVANNA G</td>\n",
              "      <td>F</td>\n",
              "      <td>70.0</td>\n",
              "      <td>drive/MyDrive/2023JHU/2023MLMA/Italian Parkins...</td>\n",
              "      <td>HC</td>\n",
              "      <td>4</td>\n",
              "      <td>[-734.8178100585938, 9827.55078125, -0.9577708...</td>\n",
              "    </tr>\n",
              "    <tr>\n",
              "      <th>84</th>\n",
              "      <td>NICOLA P</td>\n",
              "      <td>M</td>\n",
              "      <td>75.0</td>\n",
              "      <td>drive/MyDrive/2023JHU/2023MLMA/Italian Parkins...</td>\n",
              "      <td>HC</td>\n",
              "      <td>3</td>\n",
              "      <td>[-544.97314453125, 10126.3583984375, -1.091976...</td>\n",
              "    </tr>\n",
              "    <tr>\n",
              "      <th>85</th>\n",
              "      <td>NICOLA P</td>\n",
              "      <td>M</td>\n",
              "      <td>75.0</td>\n",
              "      <td>drive/MyDrive/2023JHU/2023MLMA/Italian Parkins...</td>\n",
              "      <td>HC</td>\n",
              "      <td>3</td>\n",
              "      <td>[-572.1801147460938, 12615.5498046875, -1.0844...</td>\n",
              "    </tr>\n",
              "    <tr>\n",
              "      <th>86</th>\n",
              "      <td>GRAZIA G</td>\n",
              "      <td>F</td>\n",
              "      <td>72.0</td>\n",
              "      <td>drive/MyDrive/2023JHU/2023MLMA/Italian Parkins...</td>\n",
              "      <td>HC</td>\n",
              "      <td>1</td>\n",
              "      <td>[-707.4409790039062, 7454.21875, -0.8060340772...</td>\n",
              "    </tr>\n",
              "    <tr>\n",
              "      <th>87</th>\n",
              "      <td>GRAZIA G</td>\n",
              "      <td>F</td>\n",
              "      <td>72.0</td>\n",
              "      <td>drive/MyDrive/2023JHU/2023MLMA/Italian Parkins...</td>\n",
              "      <td>HC</td>\n",
              "      <td>1</td>\n",
              "      <td>[-692.1459350585938, 8193.88671875, -0.7211997...</td>\n",
              "    </tr>\n",
              "  </tbody>\n",
              "</table>\n",
              "<p>82 rows × 7 columns</p>\n",
              "</div>\n",
              "      <button class=\"colab-df-convert\" onclick=\"convertToInteractive('df-f166e931-a673-4b9e-87e3-05655e0a9720')\"\n",
              "              title=\"Convert this dataframe to an interactive table.\"\n",
              "              style=\"display:none;\">\n",
              "        \n",
              "  <svg xmlns=\"http://www.w3.org/2000/svg\" height=\"24px\"viewBox=\"0 0 24 24\"\n",
              "       width=\"24px\">\n",
              "    <path d=\"M0 0h24v24H0V0z\" fill=\"none\"/>\n",
              "    <path d=\"M18.56 5.44l.94 2.06.94-2.06 2.06-.94-2.06-.94-.94-2.06-.94 2.06-2.06.94zm-11 1L8.5 8.5l.94-2.06 2.06-.94-2.06-.94L8.5 2.5l-.94 2.06-2.06.94zm10 10l.94 2.06.94-2.06 2.06-.94-2.06-.94-.94-2.06-.94 2.06-2.06.94z\"/><path d=\"M17.41 7.96l-1.37-1.37c-.4-.4-.92-.59-1.43-.59-.52 0-1.04.2-1.43.59L10.3 9.45l-7.72 7.72c-.78.78-.78 2.05 0 2.83L4 21.41c.39.39.9.59 1.41.59.51 0 1.02-.2 1.41-.59l7.78-7.78 2.81-2.81c.8-.78.8-2.07 0-2.86zM5.41 20L4 18.59l7.72-7.72 1.47 1.35L5.41 20z\"/>\n",
              "  </svg>\n",
              "      </button>\n",
              "      \n",
              "  <style>\n",
              "    .colab-df-container {\n",
              "      display:flex;\n",
              "      flex-wrap:wrap;\n",
              "      gap: 12px;\n",
              "    }\n",
              "\n",
              "    .colab-df-convert {\n",
              "      background-color: #E8F0FE;\n",
              "      border: none;\n",
              "      border-radius: 50%;\n",
              "      cursor: pointer;\n",
              "      display: none;\n",
              "      fill: #1967D2;\n",
              "      height: 32px;\n",
              "      padding: 0 0 0 0;\n",
              "      width: 32px;\n",
              "    }\n",
              "\n",
              "    .colab-df-convert:hover {\n",
              "      background-color: #E2EBFA;\n",
              "      box-shadow: 0px 1px 2px rgba(60, 64, 67, 0.3), 0px 1px 3px 1px rgba(60, 64, 67, 0.15);\n",
              "      fill: #174EA6;\n",
              "    }\n",
              "\n",
              "    [theme=dark] .colab-df-convert {\n",
              "      background-color: #3B4455;\n",
              "      fill: #D2E3FC;\n",
              "    }\n",
              "\n",
              "    [theme=dark] .colab-df-convert:hover {\n",
              "      background-color: #434B5C;\n",
              "      box-shadow: 0px 1px 3px 1px rgba(0, 0, 0, 0.15);\n",
              "      filter: drop-shadow(0px 1px 2px rgba(0, 0, 0, 0.3));\n",
              "      fill: #FFFFFF;\n",
              "    }\n",
              "  </style>\n",
              "\n",
              "      <script>\n",
              "        const buttonEl =\n",
              "          document.querySelector('#df-f166e931-a673-4b9e-87e3-05655e0a9720 button.colab-df-convert');\n",
              "        buttonEl.style.display =\n",
              "          google.colab.kernel.accessAllowed ? 'block' : 'none';\n",
              "\n",
              "        async function convertToInteractive(key) {\n",
              "          const element = document.querySelector('#df-f166e931-a673-4b9e-87e3-05655e0a9720');\n",
              "          const dataTable =\n",
              "            await google.colab.kernel.invokeFunction('convertToInteractive',\n",
              "                                                     [key], {});\n",
              "          if (!dataTable) return;\n",
              "\n",
              "          const docLinkHtml = 'Like what you see? Visit the ' +\n",
              "            '<a target=\"_blank\" href=https://colab.research.google.com/notebooks/data_table.ipynb>data table notebook</a>'\n",
              "            + ' to learn more about interactive tables.';\n",
              "          element.innerHTML = '';\n",
              "          dataTable['output_type'] = 'display_data';\n",
              "          await google.colab.output.renderOutput(dataTable, element);\n",
              "          const docLink = document.createElement('div');\n",
              "          docLink.innerHTML = docLinkHtml;\n",
              "          element.appendChild(docLink);\n",
              "        }\n",
              "      </script>\n",
              "    </div>\n",
              "  </div>\n",
              "  "
            ]
          },
          "metadata": {},
          "execution_count": 18
        }
      ]
    },
    {
      "cell_type": "markdown",
      "metadata": {
        "id": "uSYTlcrZyuIQ"
      },
      "source": [
        "## Task 4 [20 points]\n",
        "Train a **linear SVM** to do  bi-class classification {parkinsons, healthy control} using train and validation data for every fold. Optimize for SVM regularization parameter (C). Report your best system parameters and compute test accuracy. Use sklearn library for SVM. "
      ]
    },
    {
      "cell_type": "code",
      "source": [
        "def accuracy(pred,t):\n",
        "  acc = 0\n",
        "  for i in range(len(pred)):\n",
        "    if pred[i] == t[i]:\n",
        "      acc +=1\n",
        "  return acc/len(t)"
      ],
      "metadata": {
        "id": "abkM5-WEU1DM"
      },
      "execution_count": 52,
      "outputs": []
    },
    {
      "cell_type": "code",
      "metadata": {
        "id": "zmnbu5QB1arc",
        "colab": {
          "base_uri": "https://localhost:8080/"
        },
        "outputId": "ac5231dd-c67a-4af7-8240-368f77c560c8"
      },
      "source": [
        "# YOUR CODE HERE\n",
        "# We recommend you to create this function:\n",
        "\n",
        "def run_one_fold(DATAPDFEATS, TestFoldNumber, C):\n",
        "  \"\"\"\n",
        "  INPUTS:\n",
        "  - DATAPDFEATS contains the labels and features, as well as the #fold for each observation\n",
        "  - TestFoldNumber indicates with #fold will be used as testing set in this iteration. \n",
        "  The remaining folds will be used for training but one that will be used as validation\n",
        "  - C: SVM regularization parameter. To be used in grid-search\n",
        "\n",
        "  OUTPUTS:\n",
        "  - VPred: Vector containing the prediction scores for each validation observation\n",
        "  - VTrue: Vector containing the true labels for each validation observation\n",
        "  - TPred: Vector containing the prediction scores for each testing observation\n",
        "  - TTrue: Vector containing the true labels for each testing observation\n",
        "\n",
        "  \"\"\"\n",
        "  data = DATAPDFEATS[DATAPDFEATS[\"#fold\"] != TestFoldNumber]\n",
        "  n= TestFoldNumber-1\n",
        "  val_data = data[data[\"#fold\"] == train_val_test[\"val\"][n]]\n",
        "  train_data = data[data[\"#fold\"].isin(train_val_test[\"train\"][n])]\n",
        "\n",
        "  train_y = train_data[\"label_parkinsons\"].to_numpy().astype(int)\n",
        "  train_x = []\n",
        "  for i in train_data[\"feature\"]:\n",
        "    #print(i)\n",
        "    train_x.append(i.tolist())\n",
        "\n",
        "  val_y = val_data[\"label_parkinsons\"].to_numpy().astype(int)\n",
        "  val_x = []\n",
        "  for i in val_data[\"feature\"]:\n",
        "    #print(i)\n",
        "    val_x.append(i.tolist())\n",
        "  \n",
        "  \n",
        "  train_x = np.array(train_x)\n",
        "  val_x = np.array(val_x)\n",
        "  #print(C)\n",
        "  clf = svm.SVC(C=C,random_state=40,probability=True,kernel = 'poly')\n",
        "  clf.fit(train_x, train_y)\n",
        "  TPred = np.array(clf.predict_proba(train_x)[:,1]> 0.5).astype(int)\n",
        "  VPred = np.array(clf.predict_proba(val_x)[:,1] > 0.5).astype(int)\n",
        "  return VPred, val_y,TPred, train_y,clf\n",
        "\n",
        "\n",
        "\n",
        "# You will also need extra code to perform grid-search (for loop...).\n",
        "\"\"\"\n",
        " Example:\n",
        "for C in [0.1, 1, 10, 100, 100]:\n",
        "  for TestFOldNumber in range(1,5):\n",
        "    VPred, VTrue, TPred, TTrue = run_one_fold(DATAPDFEATS, TestFoldNumber, C)\n",
        "    \n",
        "...\n",
        "\"\"\"\n",
        "DATAPDFEATS.label_parkinsons[DATAPDFEATS[\"label_parkinsons\"]==\"PD\"] = 1\n",
        "DATAPDFEATS.label_parkinsons[DATAPDFEATS[\"label_parkinsons\"]==\"HC\"] = 0\n",
        "#DATAPDFEATS\n",
        "clf_list = dict()\n",
        "acc_list = []\n",
        "C_list = [0.1, 1,10,100,500,1000]\n",
        "VPred_list = {0.1:[],1:[],10:[],100:[],500:[],1000:[]}\n",
        "VTrue_list = {0.1:[],1:[],10:[],100:[],500:[],1000:[]}\n",
        "TPred_list = {0.1:[],1:[],10:[],100:[],500:[],1000:[]}\n",
        "TTrue_list = {0.1:[],1:[],10:[],100:[],500:[],1000:[]}\n",
        "for C in C_list:\n",
        "  acc = 0\n",
        "  n = 0\n",
        "  for TestFoldNumber in range(1,6):\n",
        "    n +=1\n",
        "    VPred, VTrue, TPred, TTrue, clf= run_one_fold(DATAPDFEATS, TestFoldNumber, C)\n",
        "    clf_list[C] = clf\n",
        "    acc += accuracy(VPred, VTrue)\n",
        "    VPred_list[C].append(VPred)\n",
        "    VTrue_list[C].append(VTrue)\n",
        "    TPred_list[C].append(TPred)\n",
        "    TTrue_list[C].append(TTrue)\n",
        "  acc_list.append(acc/n)\n",
        "    #print(TPred)\n",
        "  print(\"C=\",C,\"; validation set accuracy=\",acc/n)\n",
        "\n",
        "C_best = C_list[np.argmax(acc_list)]\n",
        "print(\"the best parameter c based on validation set model accuracy is \", C_best)\n",
        "\n",
        "\n",
        "###############test\n",
        "y_pred = []\n",
        "clf = clf_list[C_best]\n",
        "y_true = []\n",
        "for TestFoldNumber in range(1,6):\n",
        "  data = DATAPDFEATS[DATAPDFEATS[\"#fold\"] == TestFoldNumber]\n",
        "  x = []\n",
        "  for s in data[\"feature\"]:\n",
        "    x.append(s.tolist())\n",
        "  tmp_y = np.array(clf.predict_proba(x)[:,1] > 0.5)\n",
        "  tmp_ytrue = data[\"label_parkinsons\"].to_numpy().astype(int)\n",
        "  for i in range(len(tmp_y)):\n",
        "    y_pred.append(tmp_y[i])\n",
        "    y_true.append(tmp_ytrue[i])\n",
        "print(\"the test accuracy with the best parameter C is\",accuracy(y_pred, y_true) )"
      ],
      "execution_count": 53,
      "outputs": [
        {
          "output_type": "stream",
          "name": "stdout",
          "text": [
            "C= 0.1 ; validation set accuracy= 0.5861862990810358\n",
            "C= 1 ; validation set accuracy= 0.6350751879699248\n",
            "C= 10 ; validation set accuracy= 0.8202756892230576\n",
            "C= 100 ; validation set accuracy= 0.9092836257309942\n",
            "C= 500 ; validation set accuracy= 0.885672514619883\n",
            "C= 1000 ; validation set accuracy= 0.885672514619883\n",
            "the best parameter c based on validation set model accuracy is  100\n",
            "the test accuracy with the best parameter C is 0.9146341463414634\n"
          ]
        }
      ]
    },
    {
      "cell_type": "markdown",
      "metadata": {
        "id": "X5UGLEcbyUNC"
      },
      "source": [
        "## Task 5 [15 points]\n",
        "\n",
        "Write your own function to compute accuracy, sensitivity, specificity, f1, precison, recall using VPred and TPred obtained in the previous task. Report the testing results of the experiment and the hyperparameter C leading to those results."
      ]
    },
    {
      "cell_type": "code",
      "metadata": {
        "id": "CKtJ740h_0rD"
      },
      "source": [
        "# YOUR CODE HERE\n",
        "def validation(pred,t):\n",
        "  tp = 0.001\n",
        "  tn = 0.001\n",
        "  fp = 0.001\n",
        "  fn = 0.001\n",
        "  total = len(t)\n",
        "  for i in range(len(pred)):\n",
        "    if pred[i] == 1 and t[i] == 1:\n",
        "      tp +=1\n",
        "    elif pred[i] == 0 and t[i] == 0:\n",
        "      tn +=1\n",
        "    elif pred[i] == 1 and t[i] == 0:\n",
        "      fp +=1\n",
        "    elif pred[i] == 0 and t[i] == 1:\n",
        "      fn +=1\n",
        "  accuracy = (tp+tn)/total\n",
        "  precison = tp/(tp+fp)\n",
        "  recall = tp/(tp+fn)\n",
        "  f1 = 2*(precison*recall/(precison+recall))\n",
        "  sensitivity = tp/(tp+fn)\n",
        "  specificity = tn/(tn+fp)\n",
        "  return accuracy, sensitivity, specificity, f1, precison, recall"
      ],
      "execution_count": 54,
      "outputs": []
    },
    {
      "cell_type": "code",
      "source": [
        "acc_list = []\n",
        "sen_list = []\n",
        "spe_list = []\n",
        "f1_list = []\n",
        "pre_list = []\n",
        "rec_list = []\n",
        "for C in C_list:\n",
        "  acc = 0\n",
        "  sen = 0\n",
        "  spe = 0\n",
        "  f1_score = 0\n",
        "  pre = 0\n",
        "  rec = 0\n",
        "  n = 0\n",
        "  for i in range(5):\n",
        "    n+=1\n",
        "    accuracy, sensitivity, specificity, f1, precison, recall = validation(VPred_list[C][i], VTrue_list[C][i])\n",
        "    acc += accuracy\n",
        "    sen += sensitivity\n",
        "    spe += specificity\n",
        "    f1_score += f1\n",
        "    pre += precison\n",
        "    rec += recall\n",
        "  acc_list.append(acc/n)\n",
        "  sen_list.append(sen/n)\n",
        "  spe_list.append(spe/n)\n",
        "  f1_list.append(f1_score/n)\n",
        "  pre_list.append(pre/n)\n",
        "  rec_list.append(rec/n)\n",
        "  print(\"C =\",C)\n",
        "  print(\"\\t accuracy =\",acc/n)\n",
        "  print(\"\\t sensitivity =\",sen/n)\n",
        "  print(\"\\t specificity =\",spe/n)\n",
        "  print(\"\\t f1 =\",f1_score/n)\n",
        "  print(\"\\t precision =\",pre/n)\n",
        "  print(\"\\t recall =\",rec/n)"
      ],
      "metadata": {
        "colab": {
          "base_uri": "https://localhost:8080/"
        },
        "id": "1qRaxK-neIwM",
        "outputId": "9f275f90-ed8a-4556-8ae2-689270ebd9f0"
      },
      "execution_count": 55,
      "outputs": [
        {
          "output_type": "stream",
          "name": "stdout",
          "text": [
            "C = 0.1\n",
            "\t accuracy = 0.5863098120300752\n",
            "\t sensitivity = 0.8756776068685076\n",
            "\t specificity = 0.12512704046580825\n",
            "\t f1 = 0.7121228437286844\n",
            "\t precision = 0.6176006858025358\n",
            "\t recall = 0.8756776068685076\n",
            "C = 1\n",
            "\t accuracy = 0.635198700918964\n",
            "\t sensitivity = 0.8645708154765227\n",
            "\t specificity = 0.25841594416457536\n",
            "\t f1 = 0.7348153680766287\n",
            "\t precision = 0.6614793193836427\n",
            "\t recall = 0.8645708154765227\n",
            "C = 10\n",
            "\t accuracy = 0.8203992021720969\n",
            "\t sensitivity = 0.9013316379175201\n",
            "\t specificity = 0.6832764068229861\n",
            "\t f1 = 0.8580002437292276\n",
            "\t precision = 0.8213532990244786\n",
            "\t recall = 0.9013316379175201\n",
            "C = 100\n",
            "\t accuracy = 0.9094071386800333\n",
            "\t sensitivity = 0.9599059489605608\n",
            "\t specificity = 0.8332222592469177\n",
            "\t f1 = 0.9295648425310745\n",
            "\t precision = 0.9089761007708669\n",
            "\t recall = 0.9599059489605608\n",
            "C = 500\n",
            "\t accuracy = 0.8857960275689223\n",
            "\t sensitivity = 0.9432420596087863\n",
            "\t specificity = 0.7999000333222259\n",
            "\t f1 = 0.9124803581033252\n",
            "\t precision = 0.8899206833957471\n",
            "\t recall = 0.9432420596087863\n",
            "C = 1000\n",
            "\t accuracy = 0.8857960275689223\n",
            "\t sensitivity = 0.9265781702570115\n",
            "\t specificity = 0.8332222592469177\n",
            "\t f1 = 0.9109642198338171\n",
            "\t precision = 0.9065812406360738\n",
            "\t recall = 0.9265781702570115\n"
          ]
        }
      ]
    },
    {
      "cell_type": "code",
      "source": [
        "C_best = C_list[np.argmax(f1_list)]\n",
        "print(\"the best C based on f1 score is\", C_best)\n",
        "y_pred = []\n",
        "clf = clf_list[C_best]\n",
        "y_true = []\n",
        "y_prob = []\n",
        "for TestFoldNumber in range(1,6):\n",
        "  data = DATAPDFEATS[DATAPDFEATS[\"#fold\"] == TestFoldNumber]\n",
        "  x = []\n",
        "  for s in data[\"feature\"]:\n",
        "    x.append(s.tolist())\n",
        "  tmp_proba = clf.predict_proba(x)[:,1]\n",
        "  tmp_y = np.array( tmp_proba > 0.5)\n",
        "  tmp_ytrue = data[\"label_parkinsons\"].to_numpy().astype(int)\n",
        "  for i in range(len(tmp_y)):\n",
        "    y_pred.append(tmp_y[i])\n",
        "    y_true.append(tmp_ytrue[i])\n",
        "    y_prob.append(tmp_proba[i])\n",
        "accuracy, sensitivity, specificity, f1, precison, recall = validation(y_pred, y_true)\n",
        "print(\"the test result is: \", y_prob)\n",
        "print(\"the test accuracy = \",accuracy)\n",
        "print(\"the test sensitivity = \",sensitivity)\n",
        "print(\"the test specificity = \",specificity)\n",
        "print(\"the test f1 = \",f1)\n",
        "print(\"the test precison = \",precison)\n",
        "print(\"the test recall = \",recall)"
      ],
      "metadata": {
        "colab": {
          "base_uri": "https://localhost:8080/"
        },
        "id": "QP9mU5M2t24t",
        "outputId": "2146dc7a-1698-44b5-e263-c3eee6a0d3b2"
      },
      "execution_count": 56,
      "outputs": [
        {
          "output_type": "stream",
          "name": "stdout",
          "text": [
            "the best C based on f1 score is 100\n",
            "the test result is:  [0.8869844687504793, 0.7561001030299013, 0.7881783089900584, 0.6945710380739055, 0.6973252801495856, 0.9068517517630384, 0.7986614464759163, 0.7772324067359001, 0.09542488766201153, 0.0990098627519584, 0.2044442513475994, 0.18215081738140326, 0.17757667476820035, 0.09801441085294578, 0.8150670237599884, 0.7545462639525404, 0.9920596161470773, 0.9663356770195006, 0.9009831349782168, 0.9999876445963248, 0.8836672953657599, 0.8455044043901602, 0.8076547426609562, 0.054069214599322506, 0.15146377123308716, 0.1234888646228943, 0.15399762560218258, 0.14335006504361708, 0.15132530796420013, 0.9999999995304143, 0.9786158195451959, 0.8295118353185288, 0.8146287617380638, 0.8682707127067653, 0.8433259777939969, 0.8682718624673909, 0.8749267825359242, 0.9999932072186041, 0.9999997079765269, 0.9357308076521794, 0.9402850010944228, 0.05820295495022694, 0.09525957749163289, 0.4533400363980242, 0.40481730271966526, 0.1515521123582132, 0.044243961280137266, 0.1531673747051975, 0.084017727364153, 0.9160314074248448, 0.9328544058084607, 0.99645192573709, 0.9999991569694545, 0.919856083910853, 0.9805211801843265, 0.9938052748758005, 0.9798966445567217, 0.2064031123359359, 0.3876706531607949, 0.18015509670216967, 0.328956570002, 0.5290280453027816, 0.361030347087562, 0.9589492049904601, 0.9201301877426774, 0.9537290499683926, 0.887341137129282, 0.8129728364111464, 0.8124251854259199, 0.8948370776862432, 0.999998468201549, 0.9999999999989042, 0.9999999999989042, 0.8988167040212668, 0.8804684977896756, 0.703754278965068, 0.863195004650559, 0.6452954414500102, 0.39538933392519754, 0.2504416275538056, 0.18236602618332842, 0.21536106899173774]\n",
            "the test accuracy =  0.9146585365853658\n",
            "the test sensitivity =  0.9599816007359706\n",
            "the test specificity =  0.8437285169676896\n",
            "the test f1 =  0.9320220573958294\n",
            "the test precison =  0.9056450699973586\n",
            "the test recall =  0.9599816007359706\n"
          ]
        }
      ]
    },
    {
      "cell_type": "markdown",
      "metadata": {
        "id": "Z7ph_yQg-y02"
      },
      "source": [
        "## Task 6 [15 points]\n",
        "Write your own \n",
        "function to plot the ROC curve of the experiment providing the best test results. If you compared different experiments, you can plot different ROC curves. Do not use a library that already plots ROC curves, you have to build your own.\n"
      ]
    },
    {
      "cell_type": "code",
      "metadata": {
        "id": "FABIa7Nb_2tE"
      },
      "source": [
        "# YOUR CODE HERE\n",
        "result = pd.DataFrame()\n",
        "result[\"y_true\"] = y_true\n",
        "result[\"y_pred\"] = y_prob\n",
        "result = result.sort_values('y_pred', ascending=False)\n"
      ],
      "execution_count": 57,
      "outputs": []
    },
    {
      "cell_type": "code",
      "source": [
        "from math import inf\n",
        "def plot_roc(y_pred, y_true):\n",
        "  P = len(y_true[y_true ==1])\n",
        "  N = len(y_true[y_true ==0])\n",
        "  FP = 0\n",
        "  TP = 0\n",
        "  f = -inf\n",
        "  x = []\n",
        "  y = []\n",
        "  for i in range(len(y_pred)):\n",
        "    if f != y_pred[i]:\n",
        "      x.append(FP/N)\n",
        "      y.append(TP/P)\n",
        "      f = y_pred[i]\n",
        "    if y_pred[i] > 0.5 and y_true[i] == 1:\n",
        "      TP +=1\n",
        "    elif y_pred[i] > 0.5 and y_true[i] == 0:\n",
        "      FP +=1\n",
        "  plt.plot(x,y)\n",
        "  plt.xlabel(\"FPR\")\n",
        "  plt.ylabel(\"TPR\")\n",
        "  plt.show()\n",
        "\n",
        "  return x, y\n",
        "\n",
        "\n"
      ],
      "metadata": {
        "id": "2IVbzTzx6UCj"
      },
      "execution_count": 58,
      "outputs": []
    },
    {
      "cell_type": "code",
      "source": [
        "x,y = plot_roc(np.array(result[\"y_pred\"]),np.array(result[\"y_true\"]))"
      ],
      "metadata": {
        "colab": {
          "base_uri": "https://localhost:8080/",
          "height": 282
        },
        "id": "P9-PfKacPolq",
        "outputId": "54e25349-d723-4575-a713-519f65b3f360"
      },
      "execution_count": 59,
      "outputs": [
        {
          "output_type": "display_data",
          "data": {
            "text/plain": [
              "<Figure size 432x288 with 1 Axes>"
            ],
            "image/png": "[encoded data removed]"
          },
          "metadata": {
            "needs_background": "light"
          }
        }
      ]
    },
    {
      "cell_type": "markdown",
      "metadata": {
        "id": "vhe6hv7G-2uQ"
      },
      "source": [
        "## Extra bonus task [20 points]\n",
        "Write your own function to compute AUC ROC"
      ]
    },
    {
      "cell_type": "code",
      "metadata": {
        "id": "jLdb0oTZ_8Fm"
      },
      "source": [
        "# YOUR CODE HERE\n",
        "def AUC_ROC(y_pred, y_true):\n",
        "  P = len(y_true[y_true ==1])\n",
        "  N = len(y_true[y_true ==0])\n",
        "  TPR = []\n",
        "  FPR = []\n",
        "  thres = np.arange(0.0, 1.01, 0.1)\n",
        "  for i in thres:\n",
        "    #print(i)\n",
        "    i = round(i,2)\n",
        "    FP = 0\n",
        "    TP = 0\n",
        "    for y in range(len(y_pred)):\n",
        "      if y_pred[y] >= i:\n",
        "        if y_true[y] == 1:\n",
        "          TP+=1\n",
        "        elif y_true[y] == 0:\n",
        "          FP +=1\n",
        "    #print(\"FP\",FP)\n",
        "    TPR.append(TP/P)\n",
        "    FPR.append(FP/N)\n",
        "  #print(TPR,FPR)\n",
        "  auc = -1 * np.trapz(TPR, FPR)\n",
        "  return auc"
      ],
      "execution_count": 60,
      "outputs": []
    },
    {
      "cell_type": "code",
      "source": [
        "print(\"AUC:\", AUC_ROC(np.array(result[\"y_pred\"]),np.array(result[\"y_true\"])))"
      ],
      "metadata": {
        "colab": {
          "base_uri": "https://localhost:8080/"
        },
        "id": "xFyaKOdDTeF4",
        "outputId": "2d00d3fc-5451-4fab-b306-a9bda8d57e9a"
      },
      "execution_count": 61,
      "outputs": [
        {
          "output_type": "stream",
          "name": "stdout",
          "text": [
            "AUC: 0.9475\n"
          ]
        }
      ]
    },
    {
      "cell_type": "markdown",
      "metadata": {
        "id": "nUrqke4YByCT"
      },
      "source": [
        "***"
      ]
    },
    {
      "cell_type": "markdown",
      "metadata": {
        "id": "V5CeovV62F9I"
      },
      "source": [
        "## Execute to finish lab [1 point]"
      ]
    },
    {
      "cell_type": "code",
      "metadata": {
        "id": "3f-C4czZ2K6T",
        "colab": {
          "base_uri": "https://localhost:8080/",
          "height": 336
        },
        "outputId": "ccc6624d-2739-4353-d50e-c7a3b1e40bf9"
      },
      "source": [
        "from IPython.display import HTML\n",
        "\n",
        "HTML('<iframe width=\"560\" height=\"315\" src=\"https://www.youtube.com/embed/19THRdXxmaI\" frameborder=\"0\" allow=\"accelerometer; autoplay; clipboard-write; encrypted-media; gyroscope; picture-in-picture\" allowfullscreen></iframe>')"
      ],
      "execution_count": 29,
      "outputs": [
        {
          "output_type": "execute_result",
          "data": {
            "text/plain": [
              "<IPython.core.display.HTML object>"
            ],
            "text/html": [
              "<iframe width=\"560\" height=\"315\" src=\"https://www.youtube.com/embed/19THRdXxmaI\" frameborder=\"0\" allow=\"accelerometer; autoplay; clipboard-write; encrypted-media; gyroscope; picture-in-picture\" allowfullscreen></iframe>"
            ]
          },
          "metadata": {},
          "execution_count": 29
        }
      ]
    },
    {
      "cell_type": "markdown",
      "metadata": {
        "id": "dvOsD8o94zHc"
      },
      "source": [
        "**Congratulations!! You have finished Lab 5!!**"
      ]
    }
  ]
}